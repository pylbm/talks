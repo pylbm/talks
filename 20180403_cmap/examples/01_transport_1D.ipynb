{
 "cells": [
  {
   "cell_type": "markdown",
   "metadata": {},
   "source": [
    "# Transport in 1D\n",
    "\n",
    "$$\n",
    "\\renewcommand{\\DdQq}[2]{{\\mathrm D}_{#1}{\\mathrm Q}_{#2}}\n",
    "\\renewcommand{\\drondt}{\\partial_t}\n",
    "\\renewcommand{\\drondx}{\\partial_x}\n",
    "\\renewcommand{\\dx}{\\Delta x}\n",
    "\\renewcommand{\\dt}{\\Delta t}\n",
    "\\renewcommand{\\grandO}{{\\mathcal O}}\n",
    "\\renewcommand{\\density}[2]{\\,f_{#1}^{#2}}\n",
    "\\renewcommand{\\fk}[1]{\\density{#1}{\\vphantom{\\star}}}\n",
    "\\renewcommand{\\fks}[1]{\\density{#1}{\\star}}\n",
    "\\renewcommand{\\moment}[2]{\\,m_{#1}^{#2}}\n",
    "\\renewcommand{\\mk}[1]{\\moment{#1}{\\vphantom{\\star}}}\n",
    "\\renewcommand{\\mke}[1]{\\moment{#1}{e}}\n",
    "\\renewcommand{\\mks}[1]{\\moment{#1}{\\star}}\n",
    "$$\n",
    "\n",
    "In this tutorial, we test the most simple lattice Boltzmann scheme $\\DdQq{1}{2}$ on two classical hyperbolic scalar equations: the advection equation and the Burger's equation."
   ]
  },
  {
   "cell_type": "code",
   "execution_count": null,
   "metadata": {},
   "outputs": [],
   "source": [
    "import sympy as sp\n",
    "import numpy as np\n",
    "import pyLBM\n",
    "\n",
    "import matplotlib.pyplot as plt\n",
    "import matplotlib.animation as animation\n",
    "import matplotlib.cm as cm\n",
    "\n",
    "%matplotlib notebook\n",
    "%config InlineBackend.figure_format = 'svg'"
   ]
  },
  {
   "cell_type": "markdown",
   "metadata": {},
   "source": [
    "## The advection equation\n",
    "\n",
    "The problem reads\n",
    "$$\\drondt u + c\\drondx u = 0, \\quad t>0, \\quad x\\in(0, 1),$$\n",
    "\n",
    "where $c$ is a constant scalar (typically $c=1$).\n",
    "Additional boundary and initial conditions will be given in the following.\n",
    "\n",
    "First, we define the parameters of the problem :"
   ]
  },
  {
   "cell_type": "code",
   "execution_count": null,
   "metadata": {},
   "outputs": [],
   "source": [
    "# parameters\n",
    "xmin, xmax = 0., 1. # bounds of the domain\n",
    "c = 0.6             # velocity of the transport\n",
    "uL, uR = 0.5, -0.5  # left and right values of the Riemann problem\n",
    "Tf = 1.             # final time\n",
    "\n",
    "def Solution(t, x):\n",
    "    xm = 0.75*xmin+.25*xmax + c*t\n",
    "    return uL*(x<xm) + uR*(x>xm) + 0.5*(uL+uR)*(x==xm)"
   ]
  },
  {
   "cell_type": "markdown",
   "metadata": {},
   "source": [
    "We then plot the exact solution :"
   ]
  },
  {
   "cell_type": "code",
   "execution_count": null,
   "metadata": {},
   "outputs": [],
   "source": [
    "xx = np.linspace(xmin, xmax, 1025)\n",
    "t = 0\n",
    "dt = 1./128\n",
    "\n",
    "ymin, ymax = min(uL, uR), max(uL, uR)\n",
    "padding = 0.1*(ymax-ymin)\n",
    "\n",
    "fig, ax = plt.subplots(figsize=(4,3), dpi=150)\n",
    "ax.grid(False)\n",
    "ax.set_xlim(xmin, xmax)\n",
    "ax.set_ylim(ymin-padding, ymax+padding)\n",
    "ax.set_title('Advection at t = {0:4.2f}'.format(t))\n",
    "line = ax.plot(xx, Solution(t, xx), linewidth = 4, color = 'navy', alpha = .5)[0]\n",
    "\n",
    "def animate(i):\n",
    "    t = i*dt\n",
    "    if t<=Tf:\n",
    "        line.set_data(xx, Solution(t, xx))\n",
    "        ax.set_title('Advection at t = {0:4.2f}'.format(t))\n",
    "    \n",
    "anim = animation.FuncAnimation(fig, animate, frames=500, interval=10)"
   ]
  },
  {
   "cell_type": "markdown",
   "metadata": {},
   "source": [
    "To simulate this equation, we use the $\\DdQq{1}{2}$ scheme given by\n",
    "\n",
    "* two velocities $v_0=-1$, $v_1=1$, with associated distribution functions $\\fk{0}$ and $\\fk{1}$,\n",
    "* a space step $\\dx$ and a time step $\\dt$, the ration $\\lambda=\\dx/\\dt$ is called the scheme velocity,\n",
    "* two moments $\\mk{0}=\\sum_{i=0}^1\\fk{i}$ and $\\mk{1}=\\lambda \\sum_{i=0}^1 v_i\\fk{i}$ and their equilibrium values $\\mke{0} = \\mk{0}$, $\\mke{1} = c\\mk{0}$,\n",
    "* a relaxation parameter $s$ lying in $[0,2]$.\n",
    "\n",
    "In order to prepare the formalism of the package pyLBM, we introduce the two polynomials that define the moments: $P_0 = 1$ and $P_1=\\lambda X$, such that\n",
    "$$ \n",
    "\\mk{k} = \\sum_{i=0}^1 P_k(v_i) \\fk{i}.\n",
    "$$\n",
    "\n",
    "The transformation $(\\fk{0}, \\fk{1})\\mapsto(\\mk{0},\\mk{1})$ is invertible if, and only if, the polynomials $(P_0,P_1)$ is a free set over the stencil of velocities.\n",
    "\n",
    "The lattice Boltzmann method consists to compute the distribution functions $\\fk{0}$ and $\\fk{1}$ in each point of the lattice $x$ and at each time $t^n=n\\dt$.\n",
    "A step of the scheme can be read as a splitting between the relaxation phase and the transport phase:\n",
    "\n",
    "* relaxation: $$\\mks{1}(t,x)=(1-s)\\mk{1}(t,x)+s\\mke{1}(t,x).$$\n",
    "* m2f: \n",
    "$$\\begin{aligned}\\fks{0}(t,x)&\\;=(\\mk{0}(t,x)-\\mks{1}(t,x)/\\lambda)/2, \\\\ \\fks{1}(t,x)&\\;=(\\mk{0}(t,x)+\\mks{1}(t,x)/\\lambda)/2.\\end{aligned}\n",
    "$$\n",
    "* transport: $$\\fk{0}(t+\\dt, x)=\\fks{0}(t,x+\\dx), \\qquad \\fk{1}(t+\\dt, x)=\\fks{1}(t,x-\\dx).$$\n",
    "* f2m: \n",
    "$$\\begin{aligned}\\mk{0}(t+\\dt,x)&\\;=\\fk{0}(t+\\dt,x)+\\fk{1}(t+\\dt,x), \\\\ \\mk{1}(t+\\dt,x)&\\;=-\\lambda\\fk{0}(t+\\dt,x)+\\lambda\\fk{1}(t+\\dt,x).\\end{aligned}\n",
    "$$\n",
    "\n",
    "The moment of order $0$, $\\mk{0}$, being the only one conserved during the relaxation phase, the equivalent equation of this scheme reads at first order\n",
    "\n",
    "$$\\drondt\\mk{0} + \\drondx\\mke{1} = \\grandO(\\dt).$$\n",
    "\n",
    "We implement this scheme using `pyLBM`. The dictionary reads :"
   ]
  },
  {
   "cell_type": "code",
   "execution_count": null,
   "metadata": {},
   "outputs": [],
   "source": [
    "# dictionary of the simulation\n",
    "dx = 1./128\n",
    "la = 1.\n",
    "s = 1.75\n",
    "U, X, LA, C, S = sp.symbols('U, X, LA, C, S')\n",
    "\n",
    "dico = {\n",
    "    'box': {'x': [xmin, xmax], 'label':0},\n",
    "    'space_step': dx,\n",
    "    'scheme_velocity': LA,\n",
    "    'schemes':[\n",
    "        {\n",
    "            'velocities': [1,2],\n",
    "            'conserved_moments': U,\n",
    "            'polynomials': [1, X],\n",
    "            'relaxation_parameters': [0, S],\n",
    "            'equilibrium': [U, C*U],\n",
    "            'init': { U: (lambda x: Solution(0., x),)},\n",
    "        },\n",
    "    ],\n",
    "    'boundary_conditions':{\n",
    "        0: {'method': {0: pyLBM.bc.Neumann}, 'value':None},\n",
    "    },\n",
    "    'parameters':{\n",
    "        LA: la, \n",
    "        C: c,\n",
    "        S: s,\n",
    "    },\n",
    "    'generator': 'numpy',\n",
    "    'show_code': True,\n",
    "}"
   ]
  },
  {
   "cell_type": "markdown",
   "metadata": {},
   "source": [
    "It is possible to visualize the geometry of the problem :"
   ]
  },
  {
   "cell_type": "code",
   "execution_count": null,
   "metadata": {},
   "outputs": [],
   "source": [
    "geom = pyLBM.Geometry(dico)\n",
    "print(geom)\n",
    "geom.visualize(viewlabel=True, viewgrid=True, fluid_color='navy')"
   ]
  },
  {
   "cell_type": "markdown",
   "metadata": {},
   "source": [
    "and the domain of the simulation (you can try with a larger space step to have a better experience...)"
   ]
  },
  {
   "cell_type": "code",
   "execution_count": null,
   "metadata": {},
   "outputs": [],
   "source": [
    "dom = pyLBM.Domain(dico)\n",
    "print(dom)\n",
    "dom.visualize(view_distance = True, view_bound = True)"
   ]
  },
  {
   "cell_type": "markdown",
   "metadata": {},
   "source": [
    "The scheme is created and can be printed :"
   ]
  },
  {
   "cell_type": "code",
   "execution_count": null,
   "metadata": {},
   "outputs": [],
   "source": [
    "schema = pyLBM.Scheme(dico)\n",
    "print(schema)"
   ]
  },
  {
   "cell_type": "markdown",
   "metadata": {},
   "source": [
    "Finally, the simulation is built. The code is created, compiled and viewed with the option `show_code`. The simulation is then ready to go."
   ]
  },
  {
   "cell_type": "code",
   "execution_count": null,
   "metadata": {},
   "outputs": [],
   "source": [
    "sol = pyLBM.Simulation(dico)"
   ]
  },
  {
   "cell_type": "markdown",
   "metadata": {},
   "source": [
    "Even if a internal viewer is proposed, it is possible to run the simulation and visualize the numerical solution in an animation :"
   ]
  },
  {
   "cell_type": "code",
   "execution_count": null,
   "metadata": {},
   "outputs": [],
   "source": [
    "xx = np.linspace(xmin, xmax, 1025)\n",
    "\n",
    "ymin, ymax = min(uL, uR), max(uL, uR)\n",
    "padding = 0.1*(ymax-ymin)\n",
    "\n",
    "fig, ax = plt.subplots(figsize=(4,3), dpi=150)\n",
    "ax.grid(False)\n",
    "ax.set_xlim(xmin, xmax)\n",
    "ax.set_ylim(ymin-padding, ymax+padding)\n",
    "ax.set_title('Advection at t = {0:4.2f}'.format(sol.t))\n",
    "line_e = ax.plot(xx, Solution(sol.t, xx), linewidth = 2, color = 'navy', alpha = .5)[0]\n",
    "line_a = ax.scatter(sol.domain.x, sol.m[U], marker = 'o', s = 20, color = 'orange', alpha = .5)\n",
    "\n",
    "def animate(i):\n",
    "    if sol.t<Tf:\n",
    "        sol.one_time_step()\n",
    "        line_e.set_data(xx, Solution(sol.t, xx))\n",
    "        line_a.set_offsets(np.c_[sol.domain.x, sol.m[U]])\n",
    "        ax.set_title('Advection at t = {0:4.2f}'.format(sol.t))\n",
    "    \n",
    "anim = animation.FuncAnimation(fig, animate, frames=500, interval=1)"
   ]
  },
  {
   "cell_type": "markdown",
   "metadata": {},
   "source": [
    "Let's try with another scheme. The $D_1Q_3$ is more flexible and rich but the stability condition is more complicated..."
   ]
  },
  {
   "cell_type": "code",
   "execution_count": null,
   "metadata": {},
   "outputs": [],
   "source": [
    "# dictionary of the simulation\n",
    "dx = 1./128\n",
    "la = 1.\n",
    "sa, sb = 1.75, 1.75\n",
    "U, X, LA, C, Sa, Sb = sp.symbols('U, X, LA, C, Sa, Sb')\n",
    "\n",
    "dico = {\n",
    "    'box': {'x': [xmin, xmax], 'label':0},\n",
    "    'space_step': dx,\n",
    "    'scheme_velocity': LA,\n",
    "    'schemes':[\n",
    "        {\n",
    "            'velocities': [0, 1, 2],\n",
    "            'conserved_moments': U,\n",
    "            'polynomials': [1, X, X**2/2],\n",
    "            'relaxation_parameters': [0, Sa, Sb],\n",
    "            'equilibrium': [U, C*U, C**2*U],\n",
    "            'init': { U: (lambda x: Solution(0., x),)},\n",
    "        },\n",
    "    ],\n",
    "    'boundary_conditions':{\n",
    "        0: {'method': {0: pyLBM.bc.Neumann}, 'value':None},\n",
    "    },\n",
    "    'parameters':{\n",
    "        LA: la, \n",
    "        C: c,\n",
    "        Sa: sa,\n",
    "        Sb: sb\n",
    "    },\n",
    "    'generator': 'numpy',\n",
    "    'show_code': True,\n",
    "}\n",
    "\n",
    "sol = pyLBM.Simulation(dico)"
   ]
  },
  {
   "cell_type": "code",
   "execution_count": null,
   "metadata": {},
   "outputs": [],
   "source": [
    "xx = np.linspace(xmin, xmax, 1025)\n",
    "\n",
    "ymin, ymax = min(uL, uR), max(uL, uR)\n",
    "padding = 0.1*(ymax-ymin)\n",
    "\n",
    "fig, ax = plt.subplots(figsize=(4,3), dpi=150)\n",
    "ax.grid(False)\n",
    "ax.set_xlim(xmin, xmax)\n",
    "ax.set_ylim(ymin-padding, ymax+padding)\n",
    "ax.set_title('Advection at t = {0:4.2f}'.format(sol.t))\n",
    "line_e = ax.plot(xx, Solution(sol.t, xx), linewidth = 2, color = 'navy', alpha = .5)[0]\n",
    "line_a = ax.scatter(sol.domain.x, sol.m[U], marker = 'o', s = 20, color = 'orange', alpha = .5)\n",
    "\n",
    "def animate(i):\n",
    "    if sol.t<Tf:\n",
    "        sol.one_time_step()\n",
    "        line_e.set_data(xx, Solution(sol.t, xx))\n",
    "        line_a.set_offsets(np.c_[sol.domain.x, sol.m[U]])\n",
    "        ax.set_title('Advection at t = {0:4.2f}'.format(sol.t))\n",
    "    \n",
    "anim = animation.FuncAnimation(fig, animate, frames=500, interval=1)"
   ]
  },
  {
   "cell_type": "markdown",
   "metadata": {},
   "source": [
    "## The Burger's equation\n",
    "\n",
    "The problem reads\n",
    "$$\\drondt u + \\tfrac{1}{2} \\drondx u^2 = 0, \\quad t>0, \\quad x\\in(0, 1).$$\n",
    "\n",
    "The previous $\\DdQq{1}{2}$ scheme can simulate the Burger's equation by modifying the equilibrium value of the moment of order $1$ $\\mke{1}$. \n",
    "It now reads $\\mke{1} = {\\mk{0}}^2/2$.\n",
    "\n",
    "More generaly, the simulated equation is into the conservative form\n",
    "$$\\drondt u + \\drondx \\varphi(u) = 0, \\quad t>0, \\quad x\\in(0, 1),$$\n",
    "\n",
    "the equilibrium has to be taken to $\\mke{1}=\\varphi(\\mk{0})$.\n",
    "\n",
    "We just have to modify the equilibrium and the initialization of the previous example to simulate the Burger's equation. The initial condition can be a discontinuous function in order to simulate Riemann problems. Note that the function f2m, m2f, relaxation, and transport are unchanged."
   ]
  },
  {
   "cell_type": "code",
   "execution_count": null,
   "metadata": {},
   "outputs": [],
   "source": [
    "import sympy as sp\n",
    "import numpy as np\n",
    "import pyLBM\n",
    "\n",
    "import matplotlib.pyplot as plt\n",
    "import matplotlib.animation as animation\n",
    "import matplotlib.cm as cm\n",
    "\n",
    "%matplotlib notebook\n",
    "%config InlineBackend.figure_format = 'retina'"
   ]
  },
  {
   "cell_type": "code",
   "execution_count": null,
   "metadata": {},
   "outputs": [],
   "source": [
    "# parameters\n",
    "xmin, xmax = 0., 1. # bounds of the domain\n",
    "uL, uR = .5, .0     # left and right values of the Riemann problem\n",
    "Tf = 1.             # final time\n",
    "\n",
    "def Solution(t, x):\n",
    "    xm = 0.5*xmin+0.5*xmax\n",
    "    y = np.zeros(x.shape)\n",
    "    if uL>=uR:\n",
    "        # shock\n",
    "        sigma = .5*(uL+uR)\n",
    "        xm += sigma*t\n",
    "        y[x<xm] = uL\n",
    "        y[x==xm] = .5 * (uL + uR)\n",
    "        y[x>xm] = uR\n",
    "    else:\n",
    "        # rarefaction\n",
    "        xL = xm + uL*t\n",
    "        xR = xm + uR*t\n",
    "        if xR != xL:\n",
    "            y[:] = ( (x-xL) * uR - (x-xR) * uL ) / (xR-xL)\n",
    "        y[x<=xL] = uL\n",
    "        y[x>=xR] = uR\n",
    "    return y"
   ]
  },
  {
   "cell_type": "code",
   "execution_count": null,
   "metadata": {},
   "outputs": [],
   "source": [
    "dx = 1./128\n",
    "la = 1.\n",
    "s = 1.75\n",
    "U, X, LA, S = sp.symbols('U, X, LA, S')\n",
    "\n",
    "dicoD1Q2 = {\n",
    "    'box': {'x': [xmin, xmax], 'label':0},\n",
    "    'space_step': dx,\n",
    "    'scheme_velocity': LA,\n",
    "    'schemes':[\n",
    "        {\n",
    "            'velocities': [1,2],\n",
    "            'conserved_moments': U,\n",
    "            'polynomials': [1, X],\n",
    "            'relaxation_parameters': [0, S],\n",
    "            'equilibrium': [U, U**2/2],\n",
    "            'init': { U: (lambda x: Solution(0., x),)},\n",
    "        },\n",
    "    ],\n",
    "    'boundary_conditions':{\n",
    "        0: {'method': {0: pyLBM.bc.Neumann}, 'value':None},\n",
    "    },\n",
    "    'parameters':{\n",
    "        LA: la, \n",
    "        S: s,\n",
    "    },\n",
    "    'generator': 'numpy',\n",
    "    'show_code': False,\n",
    "}\n",
    "\n",
    "sol = pyLBM.Simulation(dicoD1Q2)"
   ]
  },
  {
   "cell_type": "code",
   "execution_count": null,
   "metadata": {},
   "outputs": [],
   "source": [
    "xx = np.linspace(xmin, xmax, 1025)\n",
    "\n",
    "ymin, ymax = min(uL, uR), max(uL, uR)\n",
    "padding = 0.1*(ymax-ymin)\n",
    "\n",
    "fig, ax = plt.subplots(figsize=(4,3), dpi=150)\n",
    "ax.grid(False)\n",
    "ax.set_xlim(xmin, xmax)\n",
    "ax.set_ylim(ymin-padding, ymax+padding)\n",
    "ax.set_title('Burgers at t = {0:4.2f}'.format(sol.t))\n",
    "line_e = ax.plot(xx, Solution(sol.t, xx), linewidth = 2, color = 'navy', alpha = .5)[0]\n",
    "line_a = ax.scatter(sol.domain.x, sol.m[U], marker = 'o', s = 20, color = 'orange', alpha = .5)\n",
    "\n",
    "def animate(i):\n",
    "    if sol.t<Tf:\n",
    "        sol.one_time_step()\n",
    "        line_e.set_data(xx, Solution(sol.t, xx))\n",
    "        line_a.set_offsets(np.c_[sol.domain.x, sol.m[U]])\n",
    "        ax.set_title('Burgers at t = {0:4.2f}'.format(sol.t))\n",
    "    \n",
    "anim = animation.FuncAnimation(fig, animate, frames=500, interval=1)"
   ]
  },
  {
   "cell_type": "code",
   "execution_count": null,
   "metadata": {},
   "outputs": [],
   "source": [
    "dx = 1./128\n",
    "la = 1.\n",
    "sa, sb = 1., 1.\n",
    "U, X, LA, Sa, Sb = sp.symbols('U, X, LA, Sa, Sb')\n",
    "\n",
    "dicoD1Q3 = {\n",
    "    'box': {'x': [xmin, xmax], 'label':0},\n",
    "    'space_step': dx,\n",
    "    'scheme_velocity': LA,\n",
    "    'schemes':[\n",
    "        {\n",
    "            'velocities': [0, 1,2],\n",
    "            'conserved_moments': U,\n",
    "            'polynomials': [1, X, X**2/2],\n",
    "            'relaxation_parameters': [0, Sa, Sb],\n",
    "            'equilibrium': [U, U**2/2, 2*U**3/4],\n",
    "            'init': { U: (lambda x: Solution(0., x),)},\n",
    "        },\n",
    "    ],\n",
    "    'boundary_conditions':{\n",
    "        0: {'method': {0: pyLBM.bc.Neumann}, 'value':None},\n",
    "    },\n",
    "    'parameters':{\n",
    "        LA: la, \n",
    "        Sa: sa,\n",
    "        Sb: sb\n",
    "    },\n",
    "    'generator': 'numpy',\n",
    "    'show_code': False,\n",
    "}\n",
    "\n",
    "sol = pyLBM.Simulation(dicoD1Q3)"
   ]
  },
  {
   "cell_type": "code",
   "execution_count": null,
   "metadata": {
    "scrolled": false
   },
   "outputs": [],
   "source": [
    "xx = np.linspace(xmin, xmax, 1025)\n",
    "\n",
    "ymin, ymax = min(uL, uR), max(uL, uR)\n",
    "padding = 0.1*(ymax-ymin)\n",
    "\n",
    "fig, ax = plt.subplots(figsize=(4,3), dpi=150)\n",
    "ax.grid(False)\n",
    "ax.set_xlim(xmin, xmax)\n",
    "ax.set_ylim(ymin-padding, ymax+padding)\n",
    "ax.set_title('Burgers at t = {0:4.2f}'.format(sol.t))\n",
    "line_e = ax.plot(xx, Solution(sol.t, xx), linewidth = 2, color = 'navy', alpha = .5)[0]\n",
    "line_a = ax.scatter(sol.domain.x, sol.m[U], marker = 'o', s = 20, color = 'orange', alpha = .5)\n",
    "\n",
    "def animate(i):\n",
    "    if sol.t<Tf:\n",
    "        sol.one_time_step()\n",
    "        line_e.set_data(xx, Solution(sol.t, xx))\n",
    "        line_a.set_offsets(np.c_[sol.domain.x, sol.m[U]])\n",
    "        ax.set_title('Burgers at t = {0:4.2f}'.format(sol.t))\n",
    "    \n",
    "anim = animation.FuncAnimation(fig, animate, frames=500, interval=1)"
   ]
  },
  {
   "cell_type": "code",
   "execution_count": null,
   "metadata": {},
   "outputs": [],
   "source": []
  }
 ],
 "metadata": {
  "anaconda-cloud": {},
  "kernelspec": {
   "display_name": "Python 3",
   "language": "python",
   "name": "python3"
  },
  "language_info": {
   "codemirror_mode": {
    "name": "ipython",
    "version": 3
   },
   "file_extension": ".py",
   "mimetype": "text/x-python",
   "name": "python",
   "nbconvert_exporter": "python",
   "pygments_lexer": "ipython3",
   "version": "3.6.4"
  }
 },
 "nbformat": 4,
 "nbformat_minor": 1
}
