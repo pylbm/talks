{
 "cells": [
  {
   "cell_type": "markdown",
   "metadata": {},
   "source": [
    "# thermo-hydrodynamic model\n",
    "\n",
    "In this notebook, we visualize the a two-dimensional thermal flow. We use the coupled schemes proposed by Pierre Lallemand and Li-Shi Luo in \n",
    "https://www.sciencedirect.com/science/article/pii/S0898122112004671?via%3Dihub\n",
    "\n",
    "This scheme of a thermal fluid in the Boussinesq approximation is composed of \n",
    "* a $D_1Q_9$ for the hydrodynamic with a source term,\n",
    "* a $D_1Q_5$ for the thermic.\n",
    "\n"
   ]
  },
  {
   "cell_type": "code",
   "execution_count": null,
   "metadata": {
    "collapsed": true
   },
   "outputs": [],
   "source": [
    "%matplotlib notebook"
   ]
  },
  {
   "cell_type": "code",
   "execution_count": null,
   "metadata": {
    "collapsed": true
   },
   "outputs": [],
   "source": [
    "import numpy as np\n",
    "import sympy as sp\n",
    "import pyLBM"
   ]
  },
  {
   "cell_type": "code",
   "execution_count": null,
   "metadata": {
    "collapsed": true
   },
   "outputs": [],
   "source": [
    "X, Y, LA = sp.symbols('X, Y, LA')\n",
    "rho, qx, qy, T = sp.symbols('rho, qx, qy, T')\n",
    "\n",
    "def init_T(x, y):\n",
    "    return T0\n",
    "\n",
    "def bc(f, m, x, y):\n",
    "    m[qx] = 0.\n",
    "    m[qy] = 0.\n",
    "    m[T] = T0\n",
    "\n",
    "def bc_in(f, m, x, y):\n",
    "    np.random.seed(1)\n",
    "    m[qx] = rhoo*uo\n",
    "    m[qy] = 0.\n",
    "    m[T] = T0 + (Tin - T0)*(ymax-y)*(y-.8)*100\n",
    "\n",
    "# parameters\n",
    "Tf = 100.\n",
    "T0 = .5\n",
    "Tin =  -.5\n",
    "xmin, xmax, ymin, ymax = 0., 1., 0., 1.\n",
    "Ra = 2000\n",
    "Pr = 0.71\n",
    "Ma = 0.01\n",
    "alpha = .005\n",
    "dx = 1./256 # spatial step\n",
    "la = 1. # velocity of the scheme\n",
    "rhoo = 1.\n",
    "g = 9.81\n",
    "uo = 0.025\n",
    "\n",
    "nu = np.sqrt(Pr*alpha*9.81*(T0-Tin)*(ymax-ymin)/Ra)\n",
    "kappa = nu/Pr\n",
    "eta = nu\n",
    "\n",
    "snu = 1./(.5+3*nu)\n",
    "seta = 1./(.5+3*eta)\n",
    "sq = 8*(2-snu)/(8-snu)\n",
    "se = seta\n",
    "sf = [0., 0., 0., seta, se, sq, sq, snu, snu]\n",
    "\n",
    "a = .5\n",
    "skappa = 1./(.5+10*kappa/(4+a))\n",
    "se = 1./(.5+np.sqrt(3)/3)\n",
    "snu = se\n",
    "sT = [0., skappa, skappa, se, snu]\n",
    "\n",
    "dico = {\n",
    "    'box': {\n",
    "        'x': [xmin, xmax], \n",
    "        'y': [ymin, ymax], \n",
    "        'label': [1, 2, 0, 0],\n",
    "    },\n",
    "    'elements': [\n",
    "        pyLBM.Parallelogram([xmin, ymin], [ .1, 0], [0, .8], label=0),\n",
    "        pyLBM.Parallelogram([xmax, ymin], [-.1, 0], [0, .8], label=0),\n",
    "    ],\n",
    "    'space_step': dx,\n",
    "    'scheme_velocity': la,\n",
    "    'schemes':[\n",
    "        {\n",
    "            'velocities': list(range(9)),\n",
    "            'conserved_moments': [rho, qx, qy],\n",
    "            'polynomials': [\n",
    "                1, X, Y,\n",
    "                3*(X**2+Y**2)-4,\n",
    "                0.5*(9*(X**2+Y**2)**2-21*(X**2+Y**2)+8),\n",
    "                3*X*(X**2+Y**2)-5*X, 3*Y*(X**2+Y**2)-5*Y,\n",
    "                X**2-Y**2, X*Y\n",
    "            ],\n",
    "            'relaxation_parameters': sf,\n",
    "            'equilibrium':[\n",
    "                rho, qx, qy,\n",
    "                -2*rho + 3*(qx**2+qy**2),\n",
    "                rho - 3*(qx**2+qy**2),\n",
    "                -qx, -qy,\n",
    "                qx**2 - qy**2, qx*qy\n",
    "            ],\n",
    "            'source_terms': {qy: alpha*g*T},\n",
    "            'init': {rho: 1., qx: 0., qy: 0.},\n",
    "\n",
    "        },\n",
    "        {\n",
    "            'velocities': list(range(5)),\n",
    "            'conserved_moments': T,\n",
    "            'polynomials': [1, X, Y, 5*(X**2+Y**2) - 4, (X**2-Y**2)],\n",
    "            'equilibrium': [T, T*qx, T*qy, a*T, 0.],\n",
    "            'relaxation_parameters': sT,\n",
    "            'init': {T: (init_T,)},\n",
    "        },\n",
    "    ],\n",
    "    'boundary_conditions': {\n",
    "        0: {\n",
    "            'method': {\n",
    "                0: pyLBM.bc.Bouzidi_bounce_back, \n",
    "                1: pyLBM.bc.Bouzidi_anti_bounce_back,\n",
    "            }, \n",
    "            'value': bc,\n",
    "        },\n",
    "        1: {\n",
    "            'method': {\n",
    "                0: pyLBM.bc.Bouzidi_bounce_back, \n",
    "                1: pyLBM.bc.Bouzidi_anti_bounce_back,\n",
    "            }, \n",
    "            'value': bc_in,\n",
    "        },\n",
    "        2: {\n",
    "            'method': {\n",
    "                0: pyLBM.bc.Neumann_y, \n",
    "                1: pyLBM.bc.Neumann_y,\n",
    "            }, \n",
    "            'value': None,\n",
    "        },\n",
    "    },\n",
    "    'generator': \"cython\",\n",
    "}\n",
    "\n",
    "sol = pyLBM.Simulation(dico)"
   ]
  },
  {
   "cell_type": "code",
   "execution_count": null,
   "metadata": {
    "collapsed": true
   },
   "outputs": [],
   "source": [
    "# create the viewer to plot the solution\n",
    "viewer = pyLBM.viewer.matplotlibViewer\n",
    "fig = viewer.Fig(figsize = (8,8))\n",
    "ax = fig[0]\n",
    "ax.grid(False)\n",
    "ax.xaxis_set_visible(False)\n",
    "ax.yaxis_set_visible(False)\n",
    "im = ax.image(sol.m[T].transpose(), cmap='jet', clim=[Tin, T0])\n",
    "ax.title = 'solution at t = {0:5.2f}'.format(sol.t)\n",
    "ax.polygon([[xmin/dx, ymin/dx],[xmin/dx, (ymin+.8)/dx], [(xmin+.1)/dx, (ymin+.8)/dx], [(xmin+.1)/dx, ymin/dx]], 'k')\n",
    "ax.polygon([[(xmax-.1)/dx, ymin/dx],[(xmax-.1)/dx, (ymin+.8)/dx], [xmax/dx, (ymin+.8)/dx], [xmax/dx, ymin/dx]], 'k')\n",
    "\n",
    "def update(iframe):\n",
    "    nrep = 64\n",
    "    for i in range(nrep):\n",
    "        sol.one_time_step()\n",
    "    im.set_data(sol.m[T].transpose())\n",
    "    ax.title = 'temperature at t = {0:5.2f}'.format(sol.t)\n",
    "\n",
    "fig.animate(update, interval=10)\n",
    "fig.show()"
   ]
  },
  {
   "cell_type": "code",
   "execution_count": null,
   "metadata": {
    "collapsed": true
   },
   "outputs": [],
   "source": []
  },
  {
   "cell_type": "code",
   "execution_count": null,
   "metadata": {
    "collapsed": true
   },
   "outputs": [],
   "source": []
  }
 ],
 "metadata": {
  "anaconda-cloud": {},
  "kernelspec": {
   "display_name": "Python 3",
   "language": "python",
   "name": "python3"
  },
  "language_info": {
   "codemirror_mode": {
    "name": "ipython",
    "version": 3
   },
   "file_extension": ".py",
   "mimetype": "text/x-python",
   "name": "python",
   "nbconvert_exporter": "python",
   "pygments_lexer": "ipython3",
   "version": "3.6.4"
  }
 },
 "nbformat": 4,
 "nbformat_minor": 2
}
