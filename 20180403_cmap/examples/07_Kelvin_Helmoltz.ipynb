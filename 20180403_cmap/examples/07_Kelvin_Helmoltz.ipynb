{
 "cells": [
  {
   "cell_type": "markdown",
   "metadata": {},
   "source": [
    "# Kelvin-Helmoltz instability\n",
    "\n",
    "The Kelvin–Helmholtz instability (after Lord Kelvin and Hermann von Helmholtz) can occur when there is velocity shear in a single continuous fluid, or where there is a velocity difference across the interface between two fluids. An example is wind blowing over water: The instability manifests in waves on the water surface. More generally, clouds, the ocean, Saturn's bands, Jupiter's Red Spot, and the sun's corona show this instability."
   ]
  },
  {
   "cell_type": "code",
   "execution_count": null,
   "metadata": {
    "collapsed": true
   },
   "outputs": [],
   "source": [
    "%matplotlib notebook"
   ]
  },
  {
   "cell_type": "code",
   "execution_count": null,
   "metadata": {
    "collapsed": true
   },
   "outputs": [],
   "source": [
    "import numpy as np\n",
    "import sympy as sp\n",
    "import pyLBM"
   ]
  },
  {
   "cell_type": "code",
   "execution_count": null,
   "metadata": {
    "collapsed": true
   },
   "outputs": [],
   "source": [
    "X, Y = sp.symbols('X, Y')\n",
    "rho, qx, qy, LA = sp.symbols('rho, qx, qy, LA', real=True)\n",
    "\n",
    "def bc_up(f, m, x, y, driven_velocity):\n",
    "    m[qx] = driven_velocity\n",
    "\n",
    "def vorticity(sol):\n",
    "    qx_n = sol.m[qx]\n",
    "    qy_n = sol.m[qy]\n",
    "    vort = np.abs(qx_n[1:-1, 2:] - qx_n[1:-1, :-2]\n",
    "                  - qy_n[2:, 1:-1] + qy_n[:-2, 1:-1])\n",
    "    return vort.T\n",
    "\n",
    "def qx0(x, y, U, k):\n",
    "    return np.zeros_like(x) + U*np.tanh(k*(y-.25))*(y<=.5) + U*np.tanh(k*(.75 - y))*(y>.5)\n",
    "\n",
    "def qy0(x, y, U, delta):\n",
    "    return np.zeros_like(y) + U*delta*np.sin(2*np.pi*(x + .25)) \n",
    "\n",
    "def feq(v, u):\n",
    "    c0 = LA/sp.sqrt(3)\n",
    "    x, y = sp.symbols('x, y')\n",
    "    vsymb = sp.Matrix([x, y])\n",
    "    w = sp.Matrix([sp.Rational(4,9)] + [sp.Rational(1, 9)]*4 + [sp.Rational(1, 36)]*4)\n",
    "    f = rho*(1 + u.dot(vsymb)/c0**2 + u.dot(vsymb)**2/(2*c0**4) - u.norm()**2/(2*c0**2))\n",
    "    return sp.Matrix([w[iv]*f.subs([(x, vv[0]*LA), (y, vv[1]*LA)]) for iv, vv in enumerate(v)])\n",
    "\n",
    "dx = 1./128\n",
    "Tf = 0.6\n",
    "\n",
    "rhoo = 1.\n",
    "U = .5\n",
    "k = 80\n",
    "delta = .05\n",
    "\n",
    "#Ma = .04\n",
    "#mu = .0366\n",
    "#nu = 1e-4\n",
    "\n",
    "Ma = 0.1\n",
    "mu = .0366\n",
    "nu = 1e-4\n",
    "lamb = np.sqrt(3)/Ma\n",
    "\n",
    "sigma3 = 3*mu/(rhoo*lamb*dx)\n",
    "sigma4 = 3*nu/(rhoo*lamb*dx)\n",
    "s3 = 1./(sigma3+.5)\n",
    "s4 = 1./(sigma4+.5)\n",
    "s  = [0.,0.,0.,s3,s4,s4,s3,s3,s3]\n",
    "\n",
    "kelvin_helmoltz = {\n",
    "    'parameters': {LA: lamb},\n",
    "    'box': {\n",
    "        'x': [0., 1.], \n",
    "        'y': [0., 1.], \n",
    "        'label': -1,\n",
    "    },\n",
    "    'space_step': dx,\n",
    "    'scheme_velocity': LA,\n",
    "    'schemes': [\n",
    "        {\n",
    "            'velocities': list(range(9)),\n",
    "            'polynomials': [\n",
    "                1, X, Y,\n",
    "                X**2 + Y**2,\n",
    "                X**2 - Y**2,\n",
    "                X*Y,\n",
    "                X*(X**2+Y**2),\n",
    "                Y*(X**2+Y**2),\n",
    "                (X**2+Y**2)**2                    \n",
    "            ],\n",
    "            'relaxation_parameters': s,\n",
    "            'feq': (feq, (sp.Matrix([qx/rho, qy/rho]),)),\n",
    "            'conserved_moments': [rho, qx, qy],\n",
    "            'init': {\n",
    "                rho: 1., \n",
    "                qx: (qx0, (U, k)), \n",
    "                qy: (qy0, (U, delta)),\n",
    "            },\n",
    "        },\n",
    "    ],\n",
    "    'generator': 'cython',\n",
    "}\n",
    "\n",
    "\n",
    "sol = pyLBM.Simulation(kelvin_helmoltz)"
   ]
  },
  {
   "cell_type": "code",
   "execution_count": null,
   "metadata": {
    "collapsed": true
   },
   "outputs": [],
   "source": [
    "def update(iframe):\n",
    "    nrep = 32\n",
    "    for i in range(nrep):\n",
    "        sol.one_time_step()\n",
    "    image.set_data(vorticity(sol))\n",
    "    ax.title = \"Solution t={0:f}\".format(sol.t)\n",
    "\n",
    "# init viewer\n",
    "viewer = pyLBM.viewer.matplotlibViewer\n",
    "fig = viewer.Fig(figsize=(8,8))\n",
    "ax = fig[0]\n",
    "ax.grid(visible = False)\n",
    "ax.xaxis_set_visible(False)\n",
    "ax.yaxis_set_visible(False)\n",
    "image = ax.image(vorticity, (sol,), cmap='jet')\n",
    "    \n",
    "# run the simulation\n",
    "fig.animate(update, interval=1)\n",
    "fig.show()"
   ]
  },
  {
   "cell_type": "code",
   "execution_count": null,
   "metadata": {
    "collapsed": true
   },
   "outputs": [],
   "source": []
  }
 ],
 "metadata": {
  "anaconda-cloud": {},
  "kernelspec": {
   "display_name": "Python 3",
   "language": "python",
   "name": "python3"
  },
  "language_info": {
   "codemirror_mode": {
    "name": "ipython",
    "version": 3
   },
   "file_extension": ".py",
   "mimetype": "text/x-python",
   "name": "python",
   "nbconvert_exporter": "python",
   "pygments_lexer": "ipython3",
   "version": "3.6.4"
  }
 },
 "nbformat": 4,
 "nbformat_minor": 2
}
