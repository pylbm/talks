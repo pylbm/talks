{
 "cells": [
  {
   "cell_type": "markdown",
   "metadata": {},
   "source": [
    "# Orszag-Tang vortex\n",
    "\n",
    "A classical test case for the magneto-hydro-dynamic. \n",
    "\n",
    "The equations are\n",
    "\\begin{align}\n",
    "&\\partial_t \\rho + \\partial_x \\cdot q = 0,\\\\\n",
    "&\\partial_t q  + \\partial_x \\cdot \\bigl( \\rho u{\\otimes}u + p^\\star \\mathbb{I} -B{\\otimes}B \\bigr) = 0,\\\\\n",
    "&\\partial_t E   + \\partial_x \\cdot \\bigl( (E+p^\\star)u - (u \\cdot B) B \\bigr) = 0,\\\\\n",
    "&\\partial_t B   + \\partial_x \\cdot \\bigl(u{\\otimes}B - B {\\otimes} u \\bigr) = 0,\n",
    "\\end{align}\n",
    "with\n",
    "\\begin{align}\n",
    "q &= \\rho u,\\\\\n",
    "p^\\star &= p + \\tfrac{1}{2} B\\cdot B,\\\\\n",
    "p &= (\\gamma-1) (E - \\tfrac{1}{2}\\rho u\\cdot u - \\tfrac{1}{2}B\\cdot B).\n",
    "\\end{align}\n",
    "\n",
    "Periodical conditions on $[0,2\\pi]^2$ are used. The initial conditions are\n",
    "\\begin{align}\n",
    "\\rho(x, y) &= \\gamma^2,\\\\\n",
    "q_x(x, y)  &= -\\gamma^2 \\sin(y), \\\\\n",
    "q_y(x, y)  &=  \\gamma^2 \\sin(x), \\\\\n",
    "p(x, y)    &= \\gamma,\\\\\n",
    "B_x(x, y)  &= -\\sin(y),\\\\\n",
    "B_y(x, y)  &= \\sin(2x).\n",
    "\\end{align}"
   ]
  },
  {
   "cell_type": "code",
   "execution_count": null,
   "metadata": {
    "collapsed": true
   },
   "outputs": [],
   "source": [
    "%matplotlib notebook"
   ]
  },
  {
   "cell_type": "code",
   "execution_count": null,
   "metadata": {
    "collapsed": true
   },
   "outputs": [],
   "source": [
    "import numpy as np\n",
    "import sympy as sp\n",
    "import pyLBM"
   ]
  },
  {
   "cell_type": "code",
   "execution_count": null,
   "metadata": {
    "collapsed": true
   },
   "outputs": [],
   "source": [
    "GA, X, Y, LA = sp.symbols('GA, X, Y, LA')\n",
    "rho, qx, qy, E, Bx, By = sp.symbols('rho, qx, qy, E, Bx, By')\n",
    "p, ps = sp.symbols('p, ps')\n",
    "gamma = 5./3.\n",
    "\n",
    "def init_rho(x, y):\n",
    "    return gamma**2 * np.ones(x.shape)\n",
    "\n",
    "def init_qx(x, y):\n",
    "    return -gamma**2 * np.sin(y)\n",
    "\n",
    "def init_qy(x, y):\n",
    "    return gamma**2 * np.sin(x)\n",
    "\n",
    "def init_Bx(x, y):\n",
    "    return -np.sin(y)\n",
    "\n",
    "def init_By(x, y):\n",
    "    return np.sin(2*x)\n",
    "\n",
    "def init_E(x, y):\n",
    "    Ec = 0.5 * (init_qx(x, y)**2 + init_qy(x, y)**2)/init_rho(x, y)\n",
    "    EB = 0.5 * (init_Bx(x, y)**2 + init_By(x, y)**2)\n",
    "    return Ec + EB + gamma/(gamma-1)"
   ]
  },
  {
   "cell_type": "code",
   "execution_count": null,
   "metadata": {
    "collapsed": true
   },
   "outputs": [],
   "source": [
    "# parameters\n",
    "xmin, xmax, ymin, ymax = 0., 2*np.pi, 0., 2*np.pi\n",
    "dx = np.pi / 128\n",
    "s0, s1, s2, s3 = [1.95]*4\n",
    "la = 10."
   ]
  },
  {
   "cell_type": "code",
   "execution_count": null,
   "metadata": {
    "collapsed": true
   },
   "outputs": [],
   "source": [
    "s_rho = [0., s1, s1, s0]\n",
    "s_q = [0., s2, s2, s0]\n",
    "s_E = [0., s3, s3, s0]\n",
    "s_B = [0., s3, s3, s0]\n",
    "\n",
    "p = (GA-1) * (E - (qx**2+qy**2)/(2*rho) - (Bx**2+By**2)/2)\n",
    "ps = p + (Bx**2+By**2)/2\n",
    "vB = (qx*Bx + qy*By)/rho\n",
    "\n",
    "dico = {\n",
    "    'box': {\n",
    "        'x': [xmin, xmax], \n",
    "        'y': [ymin, ymax], \n",
    "        'label': -1,\n",
    "    },\n",
    "    'space_step': dx,\n",
    "    'scheme_velocity': la,\n",
    "    'schemes': [\n",
    "        {\n",
    "            'velocities': list(range(1,5)),\n",
    "            'conserved_moments': rho,\n",
    "            'polynomials': [1, LA*X, LA*Y, X**2-Y**2],\n",
    "            'relaxation_parameters': s_rho,\n",
    "            'equilibrium': [rho, qx, qy, 0.],\n",
    "            'init': {rho: (init_rho,)},\n",
    "        },\n",
    "        {\n",
    "            'velocities': list(range(1,5)),\n",
    "            'conserved_moments': qx,\n",
    "            'polynomials': [1, LA*X, LA*Y, X**2-Y**2],\n",
    "            'relaxation_parameters': s_q,\n",
    "            'equilibrium': [\n",
    "                qx,\n",
    "                qx**2/rho + ps - Bx**2,\n",
    "                qx*qy/rho - Bx*By,\n",
    "                0.\n",
    "            ],\n",
    "            'init': {qx: (init_qx,)},\n",
    "        },\n",
    "        {\n",
    "            'velocities': list(range(1,5)),\n",
    "            'conserved_moments': qy,\n",
    "            'polynomials': [1, LA*X, LA*Y, X**2-Y**2],\n",
    "            'relaxation_parameters': s_q,\n",
    "            'equilibrium': [\n",
    "                qy,\n",
    "                qx*qy/rho - Bx*By,\n",
    "                qy**2/rho + ps - By**2,\n",
    "                0.\n",
    "            ],\n",
    "            'init': {qy: (init_qy,)},\n",
    "        },\n",
    "        {\n",
    "            'velocities': list(range(1,5)),\n",
    "            'conserved_moments': E,\n",
    "            'polynomials': [1, LA*X, LA*Y, X**2-Y**2],\n",
    "            'relaxation_parameters': s_E,\n",
    "            'equilibrium': [\n",
    "                E,\n",
    "                (E+ps)*qx/rho - vB*Bx,\n",
    "                (E+ps)*qy/rho - vB*By,\n",
    "                0.\n",
    "            ],\n",
    "            'init': {E: (init_E,)},\n",
    "        },\n",
    "        {\n",
    "            'velocities': list(range(1,5)),\n",
    "            'conserved_moments': Bx,\n",
    "            'polynomials': [1, LA*X, LA*Y, X**2-Y**2],\n",
    "            'relaxation_parameters': s_B,\n",
    "            'equilibrium': [\n",
    "                Bx,\n",
    "                0,\n",
    "                (qy*Bx - qx*By)/rho,\n",
    "                0.\n",
    "            ],\n",
    "            'init': {Bx: (init_Bx,)},\n",
    "        },\n",
    "        {\n",
    "            'velocities': list(range(1,5)),\n",
    "            'conserved_moments': By,\n",
    "            'polynomials': [1, LA*X, LA*Y, X**2-Y**2],\n",
    "            'relaxation_parameters': s_B,\n",
    "            'equilibrium': [\n",
    "                By,\n",
    "                (qx*By - qy*Bx)/rho,\n",
    "                0,\n",
    "                0.\n",
    "            ],\n",
    "            'init': {By: (init_By,)},\n",
    "        },\n",
    "    ],\n",
    "    'parameters': {LA: la, GA: gamma},\n",
    "    'generator': 'cython',\n",
    "}\n",
    "\n",
    "sol = pyLBM.Simulation(dico)"
   ]
  },
  {
   "cell_type": "code",
   "execution_count": null,
   "metadata": {
    "collapsed": true
   },
   "outputs": [],
   "source": [
    "def update(iframe):\n",
    "    for k in range(16):\n",
    "        sol.one_time_step()      # increment the solution of one time step\n",
    "    im.set_data(sol.m[rho].T)\n",
    "    ax.title = 'solution at t = {0:f}'.format(sol.t)\n",
    "\n",
    "# init viewer\n",
    "viewer = pyLBM.viewer.matplotlibViewer\n",
    "fig = viewer.Fig(figsize=(8,8))\n",
    "ax = fig[0]\n",
    "ax.grid(visible = False)\n",
    "ax.xaxis_set_visible(False)\n",
    "ax.yaxis_set_visible(False)\n",
    "im = ax.image(sol.m[rho].T, cmap=\"jet\", clim=[0.5, 7.2])\n",
    "ax.title = 'solution at t = {0:f}'.format(sol.t)\n",
    "# run the simulation\n",
    "fig.animate(update, interval=1)\n",
    "fig.show()"
   ]
  },
  {
   "cell_type": "code",
   "execution_count": null,
   "metadata": {
    "collapsed": true
   },
   "outputs": [],
   "source": []
  }
 ],
 "metadata": {
  "kernelspec": {
   "display_name": "Python 3",
   "language": "python",
   "name": "python3"
  },
  "language_info": {
   "codemirror_mode": {
    "name": "ipython",
    "version": 3
   },
   "file_extension": ".py",
   "mimetype": "text/x-python",
   "name": "python",
   "nbconvert_exporter": "python",
   "pygments_lexer": "ipython3",
   "version": "3.6.4"
  }
 },
 "nbformat": 4,
 "nbformat_minor": 2
}
