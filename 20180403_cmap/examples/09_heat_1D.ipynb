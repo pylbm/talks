{
 "cells": [
  {
   "cell_type": "markdown",
   "metadata": {},
   "source": [
    "# The heat equation in 1D\n",
    "\n",
    "$$\n",
    "\\renewcommand{\\DdQq}[2]{{\\mathrm D}_{#1}{\\mathrm Q}_{#2}}\n",
    "\\renewcommand{\\drondt}{\\partial_t}\n",
    "\\renewcommand{\\drondx}{\\partial_x}\n",
    "\\renewcommand{\\drondtt}{\\partial_{tt}}\n",
    "\\renewcommand{\\drondxx}{\\partial_{xx}}\n",
    "\\renewcommand{\\drondyy}{\\partial_{yy}}\n",
    "\\renewcommand{\\dx}{\\Delta x}\n",
    "\\renewcommand{\\dt}{\\Delta t}\n",
    "\\renewcommand{\\grandO}{{\\mathcal O}}\n",
    "\\renewcommand{\\density}[2]{\\,f_{#1}^{#2}}\n",
    "\\renewcommand{\\fk}[1]{\\density{#1}{\\vphantom{\\star}}}\n",
    "\\renewcommand{\\fks}[1]{\\density{#1}{\\star}}\n",
    "\\renewcommand{\\moment}[2]{\\,m_{#1}^{#2}}\n",
    "\\renewcommand{\\mk}[1]{\\moment{#1}{\\vphantom{\\star}}}\n",
    "\\renewcommand{\\mke}[1]{\\moment{#1}{e}}\n",
    "\\renewcommand{\\mks}[1]{\\moment{#1}{\\star}}\n",
    "$$\n",
    "\n",
    "In this tutorial, we test a very classical lattice Boltzmann scheme $\\DdQq{1}{3}$ on the heat equation.\n",
    "\n",
    "The problem reads\n",
    "$$\n",
    "\\begin{gathered} \\drondt u = \\mu \\drondxx u, \\quad t>0, \\quad x\\in(0,1),\\\\ u(0) = u(1) = 0, \\end{gathered}\n",
    "$$\n",
    "where $\\mu$ is a constant scalar."
   ]
  },
  {
   "cell_type": "code",
   "execution_count": 1,
   "metadata": {},
   "outputs": [],
   "source": [
    "import sympy as sp\n",
    "import numpy as np\n",
    "import pyLBM\n",
    "\n",
    "import matplotlib.pyplot as plt\n",
    "%matplotlib inline\n",
    "%config InlineBackend.figure_format = 'retina'"
   ]
  },
  {
   "cell_type": "markdown",
   "metadata": {},
   "source": [
    "## The scheme $\\DdQq{1}{3}$\n",
    "\n",
    "The numerical simulation of this equation by a lattice Boltzmann scheme consists in the approximatation of the solution on discret points of $(0,1)$ at discret instants.\n",
    "\n",
    "To simulate this system of equations, we use the $\\DdQq{1}{3}$ scheme given by\n",
    "\n",
    "* three velocities $v_0=0$, $v_1=1$, and $v_2=-1$, with associated distribution functions $\\fk{0}$, $\\fk{1}$, and $\\fk{2}$,\n",
    "* a space step $\\dx$ and a time step $\\dt$, the ration $\\lambda=\\dx/\\dt$ is called the scheme velocity,\n",
    "* three moments\n",
    "  $$ \\mk{0}=\\sum_{i=0}^{2} \\fk{i}, \\quad \\mk{1}= \\sum_{i=0}^{2} v_i \\fk{i}, \\quad \\mk{2}= \\frac{1}{2} \\sum_{i=0}^{2} v_i^2 \\fk{i},$$\n",
    "  \n",
    "  and their equilibrium values $\\mke{0}$, $\\mke{1}$, and $\\mke{2}$.\n",
    "* two relaxation parameters $s_1$ and $s_2$ lying in $[0,2]$.\n",
    "\n",
    "In order to use the formalism of the package pyLBM, we introduce the three polynomials that define the moments: $P_0 = 1$, $P_1=X$, and $P_2=X^2/2$, such that\n",
    "$$ \\mk{k} = \\sum_{i=0}^2 P_k(v_i) \\fk{i}.$$\n",
    "\n",
    "The transformation $(\\fk{0}, \\fk{1}, \\fk{2})\\mapsto(\\mk{0},\\mk{1}, \\mk{2})$ is invertible if, and only if, the polynomials $(P_0,P_1,P_2)$ is a free set over the stencil of velocities.\n",
    "\n",
    "The lattice Boltzmann method consists to compute the distribution functions $\\fk{0}$, $\\fk{1}$, and $\\fk{2}$ in each point of the lattice $x$ and at each time $t^n=n\\dt$.\n",
    "A step of the scheme can be read as a splitting between the relaxation phase and the transport phase:\n",
    "\n",
    "* relaxation: \n",
    "$$\n",
    "    \\begin{aligned}\\mks{1}(t,x)&=(1-s_1)\\mk{1}(t,x)+s_1\\mke{1}(t,x),\\\\ \\mks{2}(t,x)&=(1-s_2)\\mk{2}(t,x)+s_2\\mke{2}(t,x).\\end{aligned}\n",
    "$$    \n",
    "\n",
    "* m2f: \n",
    "$$\n",
    "    \\begin{aligned}\\fks{0}(t,x)&\\;=\\mk{0}(t,x)-2\\mks{2}(t,x), \\\\ \\fks{1}(t,x)&\\;=\\mks{1}(t,x)/2+\\mks{2}(t,x), \\\\ \\fks{2}(t,x)&\\;=-\\mks{1}(t,x)/2+\\mks{2}(t,x).\\end{aligned}\n",
    "    $$\n",
    "\n",
    "* transport: \n",
    "$$\n",
    "    \\begin{aligned} \\fk{0}(t+\\dt, x)&\\;=\\fks{0}(t,x), \\\\ \\fk{1}(t+\\dt, x)&\\;=\\fks{1}(t,x-\\dx), \\\\ \\fk{2}(t+\\dt, x)&\\;=\\fks{2}(t,x+\\dx). \\end{aligned}\n",
    "    $$\n",
    "\n",
    "* f2m:\n",
    "$$\n",
    "    \\begin{aligned}\\mk{0}(t+\\dt,x)&\\;=\\fk{0}(t+\\dt,x)+\\fk{1}(t+\\dt,x)+\\fk{2}(t+\\dt,x), \\\\ \\mk{1}(t+\\dt,x)&\\;=\\fk{1}(t+\\dt,x)-\\fk{2}(t+\\dt,x), \\\\ \\mk{2}(t+\\dt,x)&\\;=\\tfrac{1}{2}\\fk{1}(t+\\dt,x)+\\tfrac{1}{2}\\fk{2}(t+\\dt,x).\\end{aligned}\n",
    "$$\n",
    "\n",
    "The moment of order $0$, $\\mk{0}$, being conserved during the relaxation phase, \n",
    "a diffusive scaling $\\dt=\\dx^2$, yields to the following equivalent equation\n",
    "$$\\drondt\\mk{0} = 2\\bigl(\\tfrac{1}{s_1}-\\tfrac{1}{2}\\bigr) \\drondxx\\mke{2} + \\grandO(\\dx^2),$$\n",
    "\n",
    "if $\\mke{1}=0$.\n",
    "In order to be consistent with the heat equation, the following choice is done:\n",
    "$$\\mke{2}=\\tfrac{1}{2}u, \\qquad s_1 = \\frac{2}{1+2\\mu}, \\qquad s_2=1.$$\n"
   ]
  },
  {
   "cell_type": "code",
   "execution_count": 2,
   "metadata": {},
   "outputs": [],
   "source": [
    "##########################################################\n",
    "#                 physical parameters                    #\n",
    "##########################################################\n",
    "xmin, xmax = 0., 1. # bounds of the domain\n",
    "mu = 1.             # Fourier coefficient\n",
    "Tf = .1             # final time\n",
    "k = 1               # number of the wave\n",
    "\n",
    "##########################################################\n",
    "#                   exact solution                       #\n",
    "##########################################################\n",
    "def solution(x, t, k):\n",
    "    return np.sin(np.pi*k*x)*np.exp(-np.pi**2*k**2*mu*t)\n",
    "\n",
    "##########################################################\n",
    "#              parameters of the simulation              #\n",
    "##########################################################\n",
    "N = 10               # number of points in space\n",
    "dx = (xmax-xmin)/N   # spatial step\n",
    "la = 1./dx           # diffusive scaling\n",
    "s1 = 2./(1+2*mu)     # relaxation parameter for m[1]\n",
    "s2 = 1.              # relaxation parameter for m[2]"
   ]
  },
  {
   "cell_type": "markdown",
   "metadata": {},
   "source": [
    "## Using pyLBM\n",
    "\n",
    "pyLBM uses Python dictionary to describe the simulation. In the following, we will build this dictionary step by step.\n",
    "\n",
    "### The geometry\n",
    "\n",
    "In pyLBM, the geometry is defined by a box and a label for the boundaries."
   ]
  },
  {
   "cell_type": "code",
   "execution_count": 3,
   "metadata": {},
   "outputs": [
    {
     "name": "stdout",
     "output_type": "stream",
     "text": [
      "Geometry informations\n",
      "\t spatial dimension: 1\n",
      "\t bounds of the box: \n",
      "[[ 0.  1.]]\n",
      "\n"
     ]
    },
    {
     "data": {
      "image/png": "[encoded data removed]",
      "text/plain": [
       "<matplotlib.figure.Figure at 0x118545748>"
      ]
     },
     "metadata": {
      "image/png": {
       "height": 253,
       "width": 349
      }
     },
     "output_type": "display_data"
    }
   ],
   "source": [
    "dico_geom = {\n",
    "    'box': {\n",
    "        'x': [xmin, xmax], \n",
    "        'label':0,\n",
    "    },\n",
    "}\n",
    "geom = pyLBM.Geometry(dico_geom)\n",
    "print(geom)\n",
    "geom.visualize(viewlabel=True)"
   ]
  },
  {
   "cell_type": "markdown",
   "metadata": {},
   "source": [
    "### The stencil\n",
    "\n",
    "pyLBM provides a class stencil that is used to define the discret velocities of the scheme. In this example, the stencil is composed by the velocities $v_0=0$, $v_1=1$ and $v_2=-1$ numbered by $[0,1,2]$."
   ]
  },
  {
   "cell_type": "code",
   "execution_count": 4,
   "metadata": {},
   "outputs": [
    {
     "name": "stdout",
     "output_type": "stream",
     "text": [
      "Stencil informations\n",
      "\t * spatial dimension: 1\n",
      "\t * maximal velocity in each direction: [1]\n",
      "\t * minimal velocity in each direction: [-1]\n",
      "\t * Informations for each elementary stencil:\n",
      "\t\tstencil 0\n",
      "\t\t - number of velocities:  3\n",
      "\t\t - velocities: (0: 0), (1: 1), (2: -1), \n",
      "\n"
     ]
    },
    {
     "data": {
      "image/png": "[encoded data removed]",
      "text/plain": [
       "<matplotlib.figure.Figure at 0x118575dd8>"
      ]
     },
     "metadata": {
      "image/png": {
       "height": 326,
       "width": 304
      }
     },
     "output_type": "display_data"
    }
   ],
   "source": [
    "dico_sten = {\n",
    "    'dim': 1,\n",
    "    'schemes': [\n",
    "        {\n",
    "            'velocities': list(range(3)),\n",
    "        },\n",
    "    ],\n",
    "}\n",
    "sten = pyLBM.Stencil(dico_sten)\n",
    "print(sten)\n",
    "sten.visualize()"
   ]
  },
  {
   "cell_type": "markdown",
   "metadata": {},
   "source": [
    "### The domain\n",
    "\n",
    "In order to build the domain of the simulation, the dictionary should contain the space step $\\dx$ and the stencils of the velocities (one for each scheme). \n",
    "\n",
    "We construct a domain with $N=10$ points in space."
   ]
  },
  {
   "cell_type": "code",
   "execution_count": 5,
   "metadata": {},
   "outputs": [
    {
     "name": "stdout",
     "output_type": "stream",
     "text": [
      "Domain informations\n",
      "\t spatial dimension: 1\n",
      "\t space step: dx= 1.000e-01\n",
      "\n"
     ]
    },
    {
     "data": {
      "image/png": "[encoded data removed]",
      "text/plain": [
       "<matplotlib.figure.Figure at 0x118655550>"
      ]
     },
     "metadata": {
      "image/png": {
       "height": 270,
       "width": 370
      }
     },
     "output_type": "display_data"
    }
   ],
   "source": [
    "dico_dom = {\n",
    "    'box': {\n",
    "        'x': [xmin, xmax], \n",
    "        'label':0,\n",
    "    },\n",
    "    'space_step': dx,\n",
    "    'schemes': [\n",
    "        {\n",
    "            'velocities':list(range(3)),\n",
    "        }\n",
    "    ],\n",
    "}\n",
    "dom = pyLBM.Domain(dico_dom)\n",
    "print(dom)\n",
    "dom.visualize(view_bound = True, view_distance = True)"
   ]
  },
  {
   "cell_type": "markdown",
   "metadata": {},
   "source": [
    "### The scheme\n",
    "\n",
    "In pyLBM, a simulation can be performed by using several coupled schemes. In this example, a single scheme is used and defined through a list of one single dictionary. This dictionary should contain:\n",
    "\n",
    "* 'velocities': a list of the velocities\n",
    "* 'conserved_moments': a list of the conserved moments as sympy variables\n",
    "* 'polynomials': a list of the polynomials that define the moments\n",
    "* 'equilibrium': a list of the equilibrium value of all the moments\n",
    "* 'relaxation_parameters': a list of the relaxation parameters ($0$ for the conserved moments)\n",
    "* 'init': a dictionary to initialize the conserved moments\n",
    "\n",
    "(see the documentation for more details)\n",
    "\n",
    "The scheme velocity could be taken to $1/\\dx$ and the inital value of $u$ to\n",
    "\n",
    "$$ u(t=0,x) = \\sin(\\pi x).$$"
   ]
  },
  {
   "cell_type": "code",
   "execution_count": 6,
   "metadata": {},
   "outputs": [
    {
     "name": "stdout",
     "output_type": "stream",
     "text": [
      "Scheme informations\n",
      "\t spatial dimension: dim=1\n",
      "\t number of schemes: nscheme=1\n",
      "\t number of velocities:\n",
      "    Stencil.nv[0]=3\n",
      "\t velocities value:\n",
      "    v[0] = (0: 0), (1: 1), (2: -1), \n",
      "\t polynomials:\n",
      "    P[0] = 1, X/LA, X**2/(2*LA**2), \n",
      "\t equilibria:\n",
      "    EQ[0] = u, 0.0, 0.5*u, \n",
      "\t relaxation parameters:\n",
      "    s[0] = 0.0, 0.666666666666667, 1.00000000000000, \n",
      "\t moments matrices\n",
      "M      = Matrix([[1, 1, 1], [0, 10.0/LA, -10.0/LA], [0, 50.0/LA**2, 50.0/LA**2]])\n",
      "M^(-1) = Matrix([[1, 0, -0.02*LA**2], [0, 0.05*LA, 0.01*LA**2], [0, -0.05*LA, 0.01*LA**2]])\n",
      "\n"
     ]
    }
   ],
   "source": [
    "# symbolic variables\n",
    "u, X, LA = sp.symbols('u, X, LA')\n",
    "\n",
    "dico = {\n",
    "    'box': {'x': [xmin, xmax], 'label':0},\n",
    "    'space_step':dx,\n",
    "    'scheme_velocity':la,\n",
    "    'schemes':[\n",
    "        {\n",
    "            'velocities': list(range(3)),\n",
    "            'conserved_moments': u,\n",
    "            'polynomials': [1, X/LA, X**2/(2*LA**2)],\n",
    "            'equilibrium': [u, 0., .5*u],\n",
    "            'relaxation_parameters': [0., s1, s2],\n",
    "            'init': {u: (solution,(0.,k))},\n",
    "        }\n",
    "    ],\n",
    "    'boundary_conditions': {\n",
    "        0: {'method': {0: pyLBM.bc.anti_bounce_back,}, 'value': None},\n",
    "    },\n",
    "    'show_code': True,\n",
    "    'parameters': {LA: la},\n",
    "}\n",
    "sch = pyLBM.Scheme(dico)\n",
    "print(sch)"
   ]
  },
  {
   "cell_type": "markdown",
   "metadata": {},
   "source": [
    "### The simulation\n",
    "\n",
    "A simulation is built by defining a correct dictionary.\n",
    "\n",
    "We combine the previous dictionaries to build a simulation. In order to impose the homogeneous Dirichlet conditions in $x=0$ and $x=1$, the dictionary should contain the key 'boundary_conditions' (we use pyLBM.bc.Anti_bounce_back function)."
   ]
  },
  {
   "cell_type": "code",
   "execution_count": 7,
   "metadata": {},
   "outputs": [
    {
     "name": "stdout",
     "output_type": "stream",
     "text": [
      "#!python\n",
      "#cython: boundscheck=False\n",
      "#cython: wraparound=False\n",
      "#cython: cdivision=True\n",
      "#cython: binding=True\n",
      "#import cython\n",
      "from libc.math cimport *\n",
      "\n",
      "\n",
      "def f2m(double[:, ::1] f, int nx, double[:, ::1] m):\n",
      "    cdef int ix\n",
      "\n",
      "    for ix in range(0, nx):\n",
      "        m[ix, 0] = f[ix, 0] + f[ix, 1] + f[ix, 2]\n",
      "        m[ix, 1] = 1.0*f[ix, 1] - 1.0*f[ix, 2]\n",
      "        m[ix, 2] = 0.5*f[ix, 1] + 0.5*f[ix, 2]\n",
      "    #end\n",
      "#end\n",
      "def m2f(double[:, ::1] m, int nx, double[:, ::1] f):\n",
      "    cdef int ix\n",
      "\n",
      "    for ix in range(0, nx):\n",
      "        f[ix, 0] = m[ix, 0] - 2.0*m[ix, 2]\n",
      "        f[ix, 1] = 0.5*m[ix, 1] + 1.0*m[ix, 2]\n",
      "        f[ix, 2] = -0.5*m[ix, 1] + 1.0*m[ix, 2]\n",
      "    #end\n",
      "#end\n",
      "def equilibrium(int nx, double[:, ::1] m):\n",
      "    cdef int ix\n",
      "\n",
      "    for ix in range(0, nx):\n",
      "\n",
      "        m[ix, 1] = 0\n",
      "        m[ix, 2] = 0.5*m[ix, 0]\n",
      "    #end\n",
      "#end\n",
      "def one_time_step(double[:, ::1] f, double[::1] in_or_out, int nx, double[:, ::1] f_new):\n",
      "    cdef double m[3]\n",
      "    cdef int ix\n",
      "\n",
      "    for ix in range(1, nx - 1):\n",
      "        if in_or_out[ix] == 999:\n",
      "            m[0] = f[ix + 1, 2] + f[ix - 1, 1] + f[ix, 0]\n",
      "            m[0] = f[ix + 1, 2] + f[ix - 1, 1] + f[ix, 0]\n",
      "            m[1] = -1.0*f[ix + 1, 2] + 1.0*f[ix - 1, 1]\n",
      "            m[2] = 0.5*f[ix + 1, 2] + 0.5*f[ix - 1, 1]\n",
      "\n",
      "\n",
      "\n",
      "            m[1] = 0.333333333333333*m[1]\n",
      "            m[2] = 0.5*m[0]\n",
      "\n",
      "\n",
      "            f_new[ix, 0] = m[0] - 2.0*m[2]\n",
      "            f_new[ix, 1] = 0.5*m[1] + 1.0*m[2]\n",
      "            f_new[ix, 2] = -0.5*m[1] + 1.0*m[2]\n",
      "        #end\n",
      "    #end\n",
      "#end\n",
      "def anti_bounce_back(int[:, ::1] iload0, int[:, ::1] istore, int ncond, int nx, double[::1] rhs, double[:, ::1] f):\n",
      "    cdef int ix\n",
      "\n",
      "    for ix in range(0, ncond):\n",
      "        f[istore[ix, 1], istore[ix, 0]] = -f[iload0[ix, 1], iload0[ix, 0]] + rhs[ix]\n",
      "    #end\n",
      "#end\n",
      "\n",
      "b''\n"
     ]
    }
   ],
   "source": [
    "sol = pyLBM.Simulation(dico)"
   ]
  },
  {
   "cell_type": "markdown",
   "metadata": {},
   "source": [
    "### Run a simulation\n",
    "\n",
    "Once the simulation is initialized, one time step can be performed by using the function one_time_step.\n",
    "\n",
    "We compute the solution of the heat equation at $t=0.1$. And, on the same graphic, we plot the initial condition, the exact solution and the numerical solution."
   ]
  },
  {
   "cell_type": "code",
   "execution_count": 8,
   "metadata": {},
   "outputs": [
    {
     "data": {
      "text/plain": [
       "<matplotlib.legend.Legend at 0x11ce998d0>"
      ]
     },
     "execution_count": 8,
     "metadata": {},
     "output_type": "execute_result"
    },
    {
     "data": {
      "image/png": "[encoded data removed]",
      "text/plain": [
       "<matplotlib.figure.Figure at 0x11866a5f8>"
      ]
     },
     "metadata": {
      "image/png": {
       "height": 382,
       "width": 555
      }
     },
     "output_type": "display_data"
    }
   ],
   "source": [
    "x = sol.domain.x\n",
    "\n",
    "plt.figure(1, figsize=(9,6))\n",
    "plt.plot(x, sol.m[u], color='black', linewidth=5, alpha=0.5, label='initial')\n",
    "\n",
    "while sol.t < Tf:\n",
    "    sol.one_time_step()\n",
    "\n",
    "plt.plot(x, solution(x, sol.t,k),color='orange', linewidth=5, alpha=0.5, label='exact')\n",
    "plt.scatter(x, sol.m[u], color='navy', s=50, alpha=1., label=r'$D_1Q_3$')\n",
    "\n",
    "plt.title('Heat equation t={0:5.3f}'.format(sol.t))\n",
    "plt.legend()"
   ]
  },
  {
   "cell_type": "code",
   "execution_count": null,
   "metadata": {},
   "outputs": [],
   "source": []
  }
 ],
 "metadata": {
  "anaconda-cloud": {},
  "kernelspec": {
   "display_name": "Python [default]",
   "language": "python",
   "name": "python3"
  },
  "language_info": {
   "codemirror_mode": {
    "name": "ipython",
    "version": 3
   },
   "file_extension": ".py",
   "mimetype": "text/x-python",
   "name": "python",
   "nbconvert_exporter": "python",
   "pygments_lexer": "ipython3",
   "version": "3.5.2"
  }
 },
 "nbformat": 4,
 "nbformat_minor": 2
}
