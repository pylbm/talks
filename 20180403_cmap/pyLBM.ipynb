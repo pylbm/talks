{
 "cells": [
  {
   "cell_type": "markdown",
   "metadata": {
    "hideCode": true,
    "hidePrompt": true,
    "slideshow": {
     "slide_type": "slide"
    }
   },
   "source": [
    "<center>\n",
    "<img src=\"./figures/pylbm_logo.png\" style=\"width: 90%;\" />\n",
    "</center>\n",
    "&nbsp;\n",
    "<center>\n",
    "<span style=\"text-decoration:underline\">Loïc Gouarin</span>, Benjamin Graille\n",
    "</center>\n",
    "<center style=\"font-size=normal\">\n",
    "Laboratoire de mathématiques d'Orsay\n",
    "</center>\n",
    "&nbsp;\n",
    "<center>\n",
    "3 avril 2018 - GTN CMAP\n",
    "</center>"
   ]
  },
  {
   "cell_type": "markdown",
   "metadata": {
    "hideCode": true,
    "hidePrompt": true,
    "slideshow": {
     "slide_type": "slide"
    }
   },
   "source": [
    "## Project goal\n",
    "\n",
    "Have an all in one lattice Boltzmann toolbox \n",
    "\n",
    "- for the mathematicians to test new schemes, new parameters, ...\n",
    "- for the physicists to perform realistic simulation in their field\n",
    "- for the computer scientists to test new implementation and optimization"
   ]
  },
  {
   "cell_type": "markdown",
   "metadata": {
    "hideCode": true,
    "hidePrompt": true,
    "slideshow": {
     "slide_type": "slide"
    }
   },
   "source": [
    "## Project overview\n",
    "\n",
    "- written in Python\n",
    "- research code and (we hope) production code\n",
    "- schemes are defined by the user (classical or vectorial)\n",
    "- flexible\n",
    "- optimized code generation\n",
    "- MPI support\n",
    "\n"
   ]
  },
  {
   "cell_type": "markdown",
   "metadata": {
    "hideCode": true,
    "hidePrompt": true,
    "slideshow": {
     "slide_type": "slide"
    }
   },
   "source": [
    "## Define a lattice Boltzmann scheme\n",
    " \n",
    "A lattice Boltzmann scheme is given by\n",
    "\n",
    "- a set of $q$ velocities adapted to the mesh, $c_0,\\ldots,c_{q-1}$,\n",
    "- an invertible matrix $M$ that transforms the densities into the moments:\n",
    "\n",
    "$$\n",
    "m_k = \\sum_{j=0}^{q-1} M_{kj} f_j = \\sum_{j=0}^{q-1} P_k(c_j) f_j,\n",
    " \\qquad P_k\\in\\mathbb{R}[X],\n",
    "$$\n",
    "\n",
    "- functions defining the equilibrium $m_k^{eq}$,\n",
    "- relaxation parameters $s_k$."
   ]
  },
  {
   "cell_type": "markdown",
   "metadata": {
    "hideCode": true,
    "hidePrompt": true,
    "slideshow": {
     "slide_type": "slide"
    }
   },
   "source": [
    "The $n$th first moments are necessary the unknowns of the PDEs: these moments are conserved, that is\n",
    "\n",
    "$$\n",
    "m_k^{eq} = m_k, \\qquad 0\\leq k\\leq n-1.\n",
    "$$\n",
    "\n",
    "The next moments are not conserved and their equilibrium value depends on the conserved moments:\n",
    "\n",
    "$$\n",
    "m_k^{eq} = m_k^{eq}(m_0,\\ldots,m_{n-1}), \\qquad n\\leq k\\leq q-1.\n",
    "$$"
   ]
  },
  {
   "cell_type": "markdown",
   "metadata": {
    "slideshow": {
     "slide_type": "slide"
    }
   },
   "source": [
    "## Summary of one time step\n",
    "\n",
    "The starting point is the distribution functions $f(x, t)$ in $x\\in \\mathcal{L}$ at time $t$.\n",
    "\n",
    "- #### The computation of the moments $\\scriptsize{m(x, t) = M f(x,t)}$\n",
    "\n",
    "- #### The relaxation phase $\\scriptsize{m^*_k(x,t)=m_k(x,t)+s_k(m_k^{eq}(x, t) - m_k(x,t)), \\; 0 \\leq k\\leq q-1}$\n",
    "\n",
    "- #### The computation of the densities $\\scriptsize{f^*(x, t) = M^{-1}m^*(x, t)}$\n",
    "\n",
    "- #### The transport phase $\\scriptsize{f_j(x, t+\\Delta t) = f_j^*(x-v_j\\Delta t, t), \\; 0 \\leq j \\leq q-1}$"
   ]
  },
  {
   "cell_type": "markdown",
   "metadata": {
    "hideCode": true,
    "hidePrompt": true,
    "slideshow": {
     "slide_type": "slide"
    }
   },
   "source": [
    "## Example\n",
    "\n",
    "<center>\n",
    "<img src=\"./figures/example_scheme.png\" style=\"width: 90%;\" />\n",
    "</center>"
   ]
  },
  {
   "cell_type": "markdown",
   "metadata": {
    "hideCode": true,
    "hidePrompt": true,
    "slideshow": {
     "slide_type": "slide"
    }
   },
   "source": [
    "## User must provide\n",
    "\n",
    "- velocities,\n",
    "- the domain with its obstacles,\n",
    "- conserved moments,\n",
    "- polynomials that describe the change of basis which diagonalizes the relaxation operator,\n",
    "- equilibria,\n",
    "- the diagonal of the collapse matrix Ŝ,\n",
    "- the boundary conditions,\n",
    "- the code generator (optional).\n"
   ]
  },
  {
   "cell_type": "markdown",
   "metadata": {
    "hideCode": true,
    "hidePrompt": true,
    "slideshow": {
     "slide_type": "slide"
    }
   },
   "source": [
    "## Example\n",
    "\n",
    "We want to solve the advection equation on a torus using a $D_1Q_2$ scheme\n",
    "\n",
    "$$\n",
    "\\left\\{\n",
    "\\begin{array}{l}\n",
    "\\partial_t u(x, t) + c \\partial_x u(x, t) = 0 \\;, t > 0,\\; 0 < x < 1,\\; c=1/4, \\\\\n",
    "u(t=0,x) = u_0(x), \\\\\n",
    "u(t,x=0) = u(t,x=1)\n",
    "\\end{array}\n",
    "\\right.\n",
    "$$\n",
    "\n",
    "where $u$ is the unknown. "
   ]
  },
  {
   "cell_type": "markdown",
   "metadata": {
    "hideCode": true,
    "hidePrompt": true,
    "slideshow": {
     "slide_type": "slide"
    }
   },
   "source": [
    "The $D_1Q_2$ scheme is given by\n",
    "\n",
    "- two velocities $\\{-\\lambda, \\lambda\\}$ with $\\lambda=\\Delta x/\\Delta t$ and the associated densities $(f_-, f_+)$\n",
    "- the matrix $M$ and it's inverse\n",
    "\n",
    "$$\n",
    " M = \\begin{pmatrix} 1 & 1 \\\\ -\\lambda&\\lambda \\end{pmatrix}\n",
    " \\qquad\n",
    " M^{-1} = \\begin{pmatrix} 1/2&-1/(2\\lambda) \\\\ 1/2&1/(2\\lambda) \\end{pmatrix}\n",
    "$$\n",
    "\n",
    "- the conserved moment $u$ and the non conserved moment $v$, \n",
    " where $u=f_-+f_+$ and $v=-\\lambda f_-+ \\lambda f_+$.\n",
    "- the equilibrium value $v^{eq} = v^{eq}(u)$ and the relaxation parameter $s$."
   ]
  },
  {
   "cell_type": "markdown",
   "metadata": {
    "hideCode": true,
    "hidePrompt": true,
    "slideshow": {
     "slide_type": "slide"
    }
   },
   "source": [
    "### Initialization "
   ]
  },
  {
   "cell_type": "code",
   "execution_count": 28,
   "metadata": {
    "hideCode": false,
    "hidePrompt": true
   },
   "outputs": [
    {
     "name": "stderr",
     "output_type": "stream",
     "text": [
      "/home/loic/miniconda3/envs/pylbm/lib/python3.6/site-packages/h5py/__init__.py:36: FutureWarning: Conversion of the second argument of issubdtype from `float` to `np.floating` is deprecated. In future, it will be treated as `np.float64 == np.dtype(float).type`.\n",
      "  from ._conv import register_converters as _register_converters\n"
     ]
    }
   ],
   "source": [
    "import matplotlib.pyplot as plt\n",
    "import numpy as np\n",
    "import sympy as sp\n",
    "import pyLBM\n",
    "\n",
    "X, LA, u = sp.symbols('X,LA,u')\n",
    "\n",
    "def u0(x):\n",
    "    return np.exp(-.5*(x%1-.5)**2/0.05**2)\n",
    "\n",
    "la = 1.\n",
    "Tf = 4.\n",
    "c = .25\n",
    "s = 1.99"
   ]
  },
  {
   "cell_type": "markdown",
   "metadata": {
    "hideCode": false,
    "hidePrompt": true,
    "slideshow": {
     "slide_type": "slide"
    }
   },
   "source": [
    "### Scheme and domain definition"
   ]
  },
  {
   "cell_type": "code",
   "execution_count": 29,
   "metadata": {
    "hideCode": false,
    "hidePrompt": true
   },
   "outputs": [],
   "source": [
    "D1Q2 = {\n",
    "    'box': {'x': [0., 1.], 'label': -1},\n",
    "    'space_step': 1./128,\n",
    "    'scheme_velocity': la,\n",
    "    'schemes':[\n",
    "        {\n",
    "            'velocities': [1, 2],\n",
    "            'conserved_moments': u,\n",
    "            'polynomials': [1, X],\n",
    "            'relaxation_parameters': [0., s],\n",
    "            'equilibrium': [u, c*u],\n",
    "            'init': {u:(u0,)},\n",
    "        },\n",
    "    ],\n",
    "}"
   ]
  },
  {
   "cell_type": "markdown",
   "metadata": {
    "hideCode": true,
    "hidePrompt": true,
    "slideshow": {
     "slide_type": "slide"
    }
   },
   "source": [
    "### Simulation and plotting"
   ]
  },
  {
   "cell_type": "code",
   "execution_count": 30,
   "metadata": {
    "hideCode": false,
    "hidePrompt": true
   },
   "outputs": [
    {
     "name": "stdout",
     "output_type": "stream",
     "text": [
      "[None]\n",
      "#!python\n",
      "#cython: boundscheck=False\n",
      "#cython: wraparound=False\n",
      "#cython: cdivision=True\n",
      "#cython: binding=True\n",
      "#import cython\n",
      "from libc.math cimport *\n",
      "\n",
      "\n",
      "def f2m(double[:, ::1] f, int nx, double[:, ::1] m):\n",
      "    cdef int ix\n",
      "\n",
      "    for ix in range(0, nx):\n",
      "        m[ix, 0] = f[ix, 0] + f[ix, 1]\n",
      "        m[ix, 1] = 1.0*f[ix, 0] - 1.0*f[ix, 1]\n",
      "    #end\n",
      "#end\n",
      "def m2f(double[:, ::1] m, int nx, double[:, ::1] f):\n",
      "    cdef int ix\n",
      "\n",
      "    for ix in range(0, nx):\n",
      "        f[ix, 0] = 0.5*m[ix, 0] + 0.5*m[ix, 1]\n",
      "        f[ix, 1] = 0.5*m[ix, 0] - 0.5*m[ix, 1]\n",
      "    #end\n",
      "#end\n",
      "def equilibrium(int nx, double[:, ::1] m):\n",
      "    cdef int ix\n",
      "\n",
      "    for ix in range(0, nx):\n",
      "\n",
      "        m[ix, 1] = 0.25*m[ix, 0]\n",
      "    #end\n",
      "#end\n",
      "def one_time_step(double[:, ::1] f, double[::1] in_or_out, int nx, double[:, ::1] f_new):\n",
      "    cdef double m[2]\n",
      "    cdef int ix\n",
      "\n",
      "    for ix in range(1, nx - 1):\n",
      "        if in_or_out[ix] == 999:\n",
      "            m[0] = f[ix + 1, 1] + f[ix - 1, 0]\n",
      "            m[1] = -1.0*f[ix + 1, 1] + 1.0*f[ix - 1, 0]\n",
      "\n",
      "\n",
      "            m[1] = 0.4975*m[0] - 0.99*m[1]\n",
      "            m[0] = f[ix + 1, 1] + f[ix - 1, 0]\n",
      "\n",
      "            f_new[ix, 0] = 0.5*m[0] + 0.5*m[1]\n",
      "            f_new[ix, 1] = 0.5*m[0] - 0.5*m[1]\n",
      "        #end\n",
      "    #end\n",
      "#end\n",
      "\n",
      "b''\n"
     ]
    },
    {
     "data": {
      "image/png": "[encoded data removed]",
      "text/plain": [
       "<Figure size 432x288 with 1 Axes>"
      ]
     },
     "metadata": {},
     "output_type": "display_data"
    }
   ],
   "source": [
    "sol = pyLBM.Simulation(D1Q2) # build the simulation\n",
    "while sol.t < Tf:            # time loop\n",
    "    sol.one_time_step()      # increment the solution of one time step\n",
    "\n",
    "x = sol.domain.x\n",
    "\n",
    "plt.plot(x, sol.m[u], x, u0(x-c*sol.t))\n",
    "plt.legend([\"$D_1Q_2$\", \"exact solution\"])\n",
    "plt.show()"
   ]
  },
  {
   "cell_type": "markdown",
   "metadata": {
    "slideshow": {
     "slide_type": "slide"
    }
   },
   "source": [
    "## Basic blocks of pyLBM\n",
    "\n",
    "- the velocities and the stencils,\n",
    "- the geometry,\n",
    "- the domain,\n",
    "- the scheme,\n",
    "- the boundary conditions."
   ]
  },
  {
   "cell_type": "markdown",
   "metadata": {
    "slideshow": {
     "slide_type": "slide"
    }
   },
   "source": [
    "### The velocities\n",
    "\n",
    "- A velocity is defined by\n",
    "    + its dimension and an integer\n",
    "    + its coordinates\n",
    "- The numbering of the velocities follows the convention for 1D and 2D problems."
   ]
  },
  {
   "cell_type": "code",
   "execution_count": 1,
   "metadata": {
    "slideshow": {
     "slide_type": "slide"
    }
   },
   "outputs": [
    {
     "name": "stderr",
     "output_type": "stream",
     "text": [
      "/home/loic/miniconda3/envs/pylbm/lib/python3.6/site-packages/h5py/__init__.py:36: FutureWarning: Conversion of the second argument of issubdtype from `float` to `np.floating` is deprecated. In future, it will be treated as `np.float64 == np.dtype(float).type`.\n",
      "  from ._conv import register_converters as _register_converters\n"
     ]
    },
    {
     "data": {
      "text/plain": [
       "(2: -1)"
      ]
     },
     "execution_count": 1,
     "metadata": {},
     "output_type": "execute_result"
    }
   ],
   "source": [
    "from pyLBM.stencil import Velocity\n",
    "\n",
    "Velocity(dim=1, num=2)"
   ]
  },
  {
   "cell_type": "code",
   "execution_count": 2,
   "metadata": {},
   "outputs": [
    {
     "data": {
      "text/plain": [
       "(5: 1, 1)"
      ]
     },
     "execution_count": 2,
     "metadata": {},
     "output_type": "execute_result"
    }
   ],
   "source": [
    "Velocity(dim=2, num=5)"
   ]
  },
  {
   "cell_type": "code",
   "execution_count": 3,
   "metadata": {},
   "outputs": [
    {
     "data": {
      "text/plain": [
       "(5: 1, 1)"
      ]
     },
     "execution_count": 3,
     "metadata": {},
     "output_type": "execute_result"
    }
   ],
   "source": [
    "Velocity(vx=1, vy=1)"
   ]
  },
  {
   "cell_type": "code",
   "execution_count": 4,
   "metadata": {},
   "outputs": [
    {
     "data": {
      "text/plain": [
       "(7: -1, -1)"
      ]
     },
     "execution_count": 4,
     "metadata": {},
     "output_type": "execute_result"
    }
   ],
   "source": [
    "v = Velocity(vx=1, vy=1)\n",
    "v.get_symmetric()"
   ]
  },
  {
   "cell_type": "code",
   "execution_count": 5,
   "metadata": {},
   "outputs": [
    {
     "data": {
      "text/plain": [
       "(8: 1, -1)"
      ]
     },
     "execution_count": 5,
     "metadata": {},
     "output_type": "execute_result"
    }
   ],
   "source": [
    "v.get_symmetric(axis=0)"
   ]
  },
  {
   "cell_type": "markdown",
   "metadata": {
    "slideshow": {
     "slide_type": "slide"
    }
   },
   "source": [
    "### The stencils\n",
    "\n",
    "they define a set of velocities for each scheme involved in the simulation.\n",
    "<div style=\"height:20px;\"></div>\n",
    "#### Methods\n",
    "\n",
    "- single velocities or for each scheme,\n",
    "- velocities around a direction,\n",
    "- maximal and minimal velocities in each direction,\n",
    "- check if a velocity have its symmetric,\n",
    "- ..."
   ]
  },
  {
   "cell_type": "markdown",
   "metadata": {
    "slideshow": {
     "slide_type": "slide"
    }
   },
   "source": [
    "### Stencil for a scheme with nine velocities"
   ]
  },
  {
   "cell_type": "code",
   "execution_count": 33,
   "metadata": {
    "slideshow": {
     "slide_type": "-"
    }
   },
   "outputs": [
    {
     "name": "stdout",
     "output_type": "stream",
     "text": [
      "Stencil informations\n",
      "\t * spatial dimension: 2\n",
      "\t * maximal velocity in each direction: [1 1]\n",
      "\t * minimal velocity in each direction: [-1 -1]\n",
      "\t * Informations for each elementary stencil:\n",
      "\t\tstencil 0\n",
      "\t\t - number of velocities:  9\n",
      "\t\t - velocities: (0: 0, 0), (1: 1, 0), (2: 0, 1), (3: -1, 0), (4: 0, -1), (5: 1, 1), (6: -1, 1), (7: -1, -1), (8: 1, -1), \n",
      "\n"
     ]
    }
   ],
   "source": [
    "import pyLBM\n",
    "\n",
    "s = pyLBM.Stencil({'dim': 2, \n",
    "                   'schemes': [{'velocities': range(9)}]\n",
    "                  })\n",
    "\n",
    "print(s)"
   ]
  },
  {
   "cell_type": "code",
   "execution_count": 7,
   "metadata": {
    "slideshow": {
     "slide_type": "slide"
    }
   },
   "outputs": [
    {
     "name": "stdout",
     "output_type": "stream",
     "text": [
      "[ 0  1  0 -1  0  1 -1 -1  1]\n"
     ]
    }
   ],
   "source": [
    "print(s.uvx)"
   ]
  },
  {
   "cell_type": "code",
   "execution_count": 8,
   "metadata": {},
   "outputs": [
    {
     "name": "stdout",
     "output_type": "stream",
     "text": [
      "[ 0  1  0 -1  0  1 -1 -1  1]\n"
     ]
    }
   ],
   "source": [
    "print(s.vx[0])"
   ]
  },
  {
   "cell_type": "code",
   "execution_count": 34,
   "metadata": {
    "slideshow": {
     "slide_type": "slide"
    }
   },
   "outputs": [
    {
     "data": {
      "image/png": "[encoded data removed]",
      "text/plain": [
       "<Figure size 432x288 with 1 Axes>"
      ]
     },
     "metadata": {},
     "output_type": "display_data"
    }
   ],
   "source": [
    "s.visualize()"
   ]
  },
  {
   "cell_type": "markdown",
   "metadata": {
    "slideshow": {
     "slide_type": "slide"
    }
   },
   "source": [
    "### Coupled stencils (4 + 4 + 9 velocities)"
   ]
  },
  {
   "cell_type": "code",
   "execution_count": 12,
   "metadata": {},
   "outputs": [
    {
     "name": "stdout",
     "output_type": "stream",
     "text": [
      "Stencil informations\n",
      "\t * spatial dimension: 2\n",
      "\t * maximal velocity in each direction: [1 1]\n",
      "\t * minimal velocity in each direction: [-1 -1]\n",
      "\t * Informations for each elementary stencil:\n",
      "\t\tstencil 0\n",
      "\t\t - number of velocities:  4\n",
      "\t\t - velocities: (1: 1, 0), (2: 0, 1), (3: -1, 0), (4: 0, -1), \n",
      "\t\tstencil 1\n",
      "\t\t - number of velocities:  4\n",
      "\t\t - velocities: (1: 1, 0), (2: 0, 1), (3: -1, 0), (4: 0, -1), \n",
      "\t\tstencil 2\n",
      "\t\t - number of velocities:  9\n",
      "\t\t - velocities: (0: 0, 0), (1: 1, 0), (2: 0, 1), (3: -1, 0), (4: 0, -1), (5: 1, 1), (6: -1, 1), (7: -1, -1), (8: 1, -1), \n",
      "\n"
     ]
    }
   ],
   "source": [
    "s = pyLBM.Stencil({'dim': 2, \n",
    "                   'schemes': [{'velocities': range(1, 5)},\n",
    "                               {'velocities': range(1, 5)},\n",
    "                               {'velocities': range(9)},\n",
    "                              ]\n",
    "                  })\n",
    "\n",
    "print(s)"
   ]
  },
  {
   "cell_type": "code",
   "execution_count": 13,
   "metadata": {
    "slideshow": {
     "slide_type": "slide"
    }
   },
   "outputs": [
    {
     "data": {
      "text/plain": [
       "array([1, 1], dtype=object)"
      ]
     },
     "execution_count": 13,
     "metadata": {},
     "output_type": "execute_result"
    }
   ],
   "source": [
    "s.vmax"
   ]
  },
  {
   "cell_type": "code",
   "execution_count": 14,
   "metadata": {},
   "outputs": [
    {
     "data": {
      "text/plain": [
       "array([ 0,  1,  0, -1,  0,  1, -1, -1,  1])"
      ]
     },
     "execution_count": 14,
     "metadata": {},
     "output_type": "execute_result"
    }
   ],
   "source": [
    "s.uvx"
   ]
  },
  {
   "cell_type": "code",
   "execution_count": 15,
   "metadata": {},
   "outputs": [
    {
     "data": {
      "text/plain": [
       "array([ 1,  0, -1,  0])"
      ]
     },
     "execution_count": 15,
     "metadata": {},
     "output_type": "execute_result"
    }
   ],
   "source": [
    "s.vx[0]"
   ]
  },
  {
   "cell_type": "code",
   "execution_count": 16,
   "metadata": {},
   "outputs": [
    {
     "data": {
      "text/plain": [
       "array([ 0,  1,  0, -1,  0,  1, -1, -1,  1])"
      ]
     },
     "execution_count": 16,
     "metadata": {},
     "output_type": "execute_result"
    }
   ],
   "source": [
    "s.vx[2]"
   ]
  },
  {
   "cell_type": "code",
   "execution_count": 17,
   "metadata": {
    "slideshow": {
     "slide_type": "slide"
    }
   },
   "outputs": [
    {
     "data": {
      "image/png": "[encoded data removed]",
      "text/plain": [
       "<Figure size 432x288 with 3 Axes>"
      ]
     },
     "metadata": {},
     "output_type": "display_data"
    }
   ],
   "source": [
    "s.visualize(v)"
   ]
  },
  {
   "cell_type": "markdown",
   "metadata": {
    "slideshow": {
     "slide_type": "slide"
    }
   },
   "source": [
    "### The geometry\n",
    "\n",
    "pyLBM can define 1D, 2D and 3D geometry.\n",
    "\n",
    "A geometry is given by the dimension of the box and the labels associated.\n",
    "\n",
    "Only the 2D case can have a union of simple obstacles like \n",
    "- a circle,\n",
    "- a parallelogram,\n",
    "- a triangle."
   ]
  },
  {
   "cell_type": "markdown",
   "metadata": {
    "slideshow": {
     "slide_type": "slide"
    }
   },
   "source": [
    "### 2D box"
   ]
  },
  {
   "cell_type": "code",
   "execution_count": 18,
   "metadata": {},
   "outputs": [
    {
     "name": "stdout",
     "output_type": "stream",
     "text": [
      "Geometry informations\n",
      "\t spatial dimension: 2\n",
      "\t bounds of the box: \n",
      "[[0. 1.]\n",
      " [0. 1.]]\n",
      "\n"
     ]
    }
   ],
   "source": [
    "g = pyLBM.Geometry({'box': {'x': [0, 1], 'y': [0, 1], 'label':0}, \n",
    "                  })\n",
    "print(g)"
   ]
  },
  {
   "cell_type": "code",
   "execution_count": 19,
   "metadata": {
    "slideshow": {
     "slide_type": "slide"
    }
   },
   "outputs": [
    {
     "data": {
      "image/png": "[encoded data removed]",
      "text/plain": [
       "<Figure size 432x288 with 1 Axes>"
      ]
     },
     "metadata": {},
     "output_type": "display_data"
    }
   ],
   "source": [
    "g.visualize()"
   ]
  },
  {
   "cell_type": "markdown",
   "metadata": {
    "slideshow": {
     "slide_type": "slide"
    }
   },
   "source": [
    "### 2D box with obstacles"
   ]
  },
  {
   "cell_type": "code",
   "execution_count": 20,
   "metadata": {},
   "outputs": [
    {
     "name": "stdout",
     "output_type": "stream",
     "text": [
      "Geometry informations\n",
      "\t spatial dimension: 2\n",
      "\t bounds of the box: \n",
      "[[0. 1.]\n",
      " [0. 1.]]\n",
      "\t List of elements added or deleted in the box\n",
      "\t\t Element number 0: Parallelogram([0.1 0.1],[0.8 0. ],[0.  0.8]) (solid)\n",
      "\t\t Element number 1: Parallelogram([0.  0.4],[1 0],[0.  0.2]) (fluid)\n",
      "\t\t Element number 2: Circle([0.5 0.5],0.25) (fluid)\n",
      "\t\t Element number 3: Parallelogram([0.4 0.5],[0.1 0.1],[ 0.1 -0.1]) (solid)\n",
      "\n"
     ]
    }
   ],
   "source": [
    "square = pyLBM.Parallelogram((.1, .1), (.8, 0), (0, .8), isfluid=False)\n",
    "strip = pyLBM.Parallelogram((0, .4), (1, 0), (0, .2), isfluid=True)\n",
    "circle = pyLBM.Circle((.5, .5), .25, isfluid=True)\n",
    "inner_square = pyLBM.Parallelogram((.4, .5), (.1, .1), (.1, -.1), isfluid=False)\n",
    "\n",
    "g = pyLBM.Geometry({'box':{'x': [0, 1], 'y': [0, 1], 'label':0},\n",
    "                    'elements':[square, strip, circle, inner_square],\n",
    "                    })\n",
    "\n",
    "print(g)"
   ]
  },
  {
   "cell_type": "code",
   "execution_count": 21,
   "metadata": {
    "slideshow": {
     "slide_type": "slide"
    }
   },
   "outputs": [
    {
     "data": {
      "image/png": "[encoded data removed]",
      "text/plain": [
       "<Figure size 432x288 with 1 Axes>"
      ]
     },
     "metadata": {},
     "output_type": "display_data"
    }
   ],
   "source": [
    "g.visualize()"
   ]
  },
  {
   "cell_type": "markdown",
   "metadata": {
    "slideshow": {
     "slide_type": "slide"
    }
   },
   "source": [
    "### The domain\n",
    "\n",
    "The domain is given by a geometry, one or several schemes and a space step.\n",
    "<div style=\"height:20px;\"></div>\n",
    "#### Methods\n",
    "\n",
    "- type of mesh points: fluid or solid,\n",
    "- distance computation for each velocity between the mesh points and the border of the obstacles,\n",
    "- labels of the border for each computed minimal distance."
   ]
  },
  {
   "cell_type": "markdown",
   "metadata": {
    "slideshow": {
     "slide_type": "slide"
    }
   },
   "source": [
    "### A simple fluid 2D domain"
   ]
  },
  {
   "cell_type": "code",
   "execution_count": 36,
   "metadata": {},
   "outputs": [
    {
     "name": "stdout",
     "output_type": "stream",
     "text": [
      "Domain informations\n",
      "\t spatial dimension: 2\n",
      "\t space step: dx= 1.000e-01\n",
      "\n"
     ]
    }
   ],
   "source": [
    "s = pyLBM.Domain({'box': {'x': [0, 1], 'y': [0, 1], 'label':0}, \n",
    "                                   'space_step': .1,\n",
    "                                   'schemes': [{'velocities': list(range(9))}]\n",
    "                                 })\n",
    "print(s)"
   ]
  },
  {
   "cell_type": "code",
   "execution_count": 24,
   "metadata": {
    "slideshow": {
     "slide_type": "slide"
    }
   },
   "outputs": [
    {
     "data": {
      "image/png": "[encoded data removed]",
      "text/plain": [
       "<Figure size 432x288 with 1 Axes>"
      ]
     },
     "metadata": {},
     "output_type": "display_data"
    }
   ],
   "source": [
    "s.visualize()"
   ]
  },
  {
   "cell_type": "code",
   "execution_count": 26,
   "metadata": {
    "slideshow": {
     "slide_type": "slide"
    }
   },
   "outputs": [
    {
     "data": {
      "image/png": "[encoded data removed]",
      "text/plain": [
       "<Figure size 432x288 with 1 Axes>"
      ]
     },
     "metadata": {},
     "output_type": "display_data"
    }
   ],
   "source": [
    "s.visualize(view_distance=True)"
   ]
  },
  {
   "cell_type": "markdown",
   "metadata": {
    "slideshow": {
     "slide_type": "slide"
    }
   },
   "source": [
    "### With obstacles"
   ]
  },
  {
   "cell_type": "code",
   "execution_count": 29,
   "metadata": {},
   "outputs": [],
   "source": [
    "d = pyLBM.Domain({'box': {'x': [0, 1], 'y': [0, 1], 'label':0}, \n",
    "                                    'elements': [pyLBM.Circle((.25, .5), .2)],\n",
    "                                    'space_step': .05,\n",
    "                                    'schemes': [{'velocities': list(range(9))}]\n",
    "                  })"
   ]
  },
  {
   "cell_type": "code",
   "execution_count": 30,
   "metadata": {},
   "outputs": [
    {
     "data": {
      "image/png": "[encoded data removed]",
      "text/plain": [
       "<Figure size 432x288 with 1 Axes>"
      ]
     },
     "metadata": {},
     "output_type": "display_data"
    }
   ],
   "source": [
    "d.visualize()"
   ]
  },
  {
   "cell_type": "code",
   "execution_count": 31,
   "metadata": {
    "slideshow": {
     "slide_type": "slide"
    }
   },
   "outputs": [
    {
     "data": {
      "image/png": "[encoded data removed]",
      "text/plain": [
       "<Figure size 432x288 with 1 Axes>"
      ]
     },
     "metadata": {},
     "output_type": "display_data"
    }
   ],
   "source": [
    "d.visualize(view_distance=True)"
   ]
  },
  {
   "cell_type": "markdown",
   "metadata": {
    "slideshow": {
     "slide_type": "slide"
    }
   },
   "source": [
    "### The scheme\n",
    "\n",
    "A scheme is defined by:\n",
    "\n",
    "- a set of velocities,\n",
    "- conserved moments,\n",
    "- polynomials,\n",
    "- equilibria,\n",
    "- relaxation coefficients."
   ]
  },
  {
   "cell_type": "markdown",
   "metadata": {
    "slideshow": {
     "slide_type": "slide"
    }
   },
   "source": [
    "### Boundary conditions\n",
    "\n",
    "- bounce back and anti bounce back\n",
    "- Bouzidi\n",
    "- Neumann\n",
    "- periodic"
   ]
  },
  {
   "cell_type": "markdown",
   "metadata": {
    "hideCode": false,
    "hidePrompt": true,
    "slideshow": {
     "slide_type": "slide"
    }
   },
   "source": [
    "### Storage\n",
    "\n",
    "- same access to the moments and disribution functions arrays\n",
    "- can access with the name of the conserved moments\n",
    "- different storage in memory in order to have the best performance for the selected generator\n",
    "- in charge of the scatter process between the sub domains"
   ]
  },
  {
   "cell_type": "markdown",
   "metadata": {
    "slideshow": {
     "slide_type": "slide"
    }
   },
   "source": [
    "### Code generator\n",
    "\n",
    "- NumPy\n",
    "- Cython\n",
    "- loo.py"
   ]
  },
  {
   "cell_type": "markdown",
   "metadata": {
    "hideCode": true,
    "hidePrompt": true,
    "slideshow": {
     "slide_type": "slide"
    }
   },
   "source": [
    "## Structure of the code\n",
    "\n",
    "\n",
    "<center>\n",
    "    <img style=\"width:70%;\" src=\"./figures/structure.png\"/>\n",
    "</center>"
   ]
  },
  {
   "cell_type": "markdown",
   "metadata": {
    "slideshow": {
     "slide_type": "slide"
    }
   },
   "source": [
    "## Next release (soon)\n",
    "\n",
    "- improve code generation to implement other languages\n",
    "    - Pythran\n",
    "    - loopy\n",
    "- relative velocity\n",
    "- better packaging\n"
   ]
  },
  {
   "cell_type": "markdown",
   "metadata": {
    "hideCode": true,
    "hidePrompt": true,
    "slideshow": {
     "slide_type": "slide"
    }
   },
   "source": [
    "## Next features\n",
    "\n",
    "- tools for scaling and performance estimations\n",
    "- Strang operator\n",
    "- transport strategies\n",
    "- equivalent equations\n",
    "- multiresolution"
   ]
  }
 ],
 "metadata": {
  "anaconda-cloud": {},
  "celltoolbar": "Slideshow",
  "hide_code_all_hidden": true,
  "kernelspec": {
   "display_name": "Python 3",
   "language": "python",
   "name": "python3"
  },
  "language_info": {
   "codemirror_mode": {
    "name": "ipython",
    "version": 3
   },
   "file_extension": ".py",
   "mimetype": "text/x-python",
   "name": "python",
   "nbconvert_exporter": "python",
   "pygments_lexer": "ipython3",
   "version": "3.6.4"
  },
  "latex_envs": {
   "LaTeX_envs_menu_present": true,
   "autocomplete": true,
   "bibliofile": "biblio.bib",
   "cite_by": "apalike",
   "current_citInitial": 1,
   "eqLabelWithNumbers": true,
   "eqNumInitial": 1,
   "hotkeys": {
    "equation": "Ctrl-E",
    "itemize": "Ctrl-I"
   },
   "labels_anchors": false,
   "latex_user_defs": false,
   "report_style_numbering": false,
   "user_envs_cfg": false
  },
  "livereveal": {
   "scroll": true,
   "width": "80%"
  },
  "nbpresent": {
   "slides": {
    "820065f8-8944-4335-8ab7-ba6c9feac786": {
     "id": "820065f8-8944-4335-8ab7-ba6c9feac786",
     "prev": null,
     "regions": {
      "d19c7b51-fba6-4bee-8870-3ef44ae7f0e7": {
       "attrs": {
        "height": 0.8,
        "width": 0.8,
        "x": 0.1,
        "y": 0.1
       },
       "content": {
        "cell": "ce53065a-5b71-435c-93fa-68e63a7ded0d",
        "part": "whole"
       },
       "id": "d19c7b51-fba6-4bee-8870-3ef44ae7f0e7"
      }
     }
    }
   },
   "themes": {}
  }
 },
 "nbformat": 4,
 "nbformat_minor": 2
}
