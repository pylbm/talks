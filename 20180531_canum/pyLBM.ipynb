{
 "cells": [
  {
   "cell_type": "markdown",
   "metadata": {
    "hideCode": true,
    "hidePrompt": true,
    "slideshow": {
     "slide_type": "slide"
    }
   },
   "source": [
    "<center>\n",
    "<img src=\"./figures/pylbm_logo.png\" style=\"width: 90%;\" />\n",
    "</center>\n",
    "&nbsp;\n",
    "<center>\n",
    "<span style=\"text-decoration:underline\">Loïc Gouarin</span>, Benjamin Graille\n",
    "</center>\n",
    "<center style=\"font-size=normal\">\n",
    "Laboratoire de mathématiques d'Orsay\n",
    "</center>\n",
    "&nbsp;\n",
    "<center>\n",
    "31 mai 2018 - CANUM\n",
    "</center>"
   ]
  },
  {
   "cell_type": "markdown",
   "metadata": {
    "hideCode": true,
    "hidePrompt": true,
    "slideshow": {
     "slide_type": "slide"
    }
   },
   "source": [
    "## Project goal\n",
    "\n",
    "Have an all in one lattice Boltzmann toolbox \n",
    "\n",
    "- for the mathematicians to test new schemes, new parameters, ...\n",
    "- for the physicists to perform realistic simulation in their field\n",
    "- for the computer scientists to test new implementation and optimization"
   ]
  },
  {
   "cell_type": "markdown",
   "metadata": {
    "hideCode": true,
    "hidePrompt": true,
    "slideshow": {
     "slide_type": "slide"
    }
   },
   "source": [
    "## Project overview\n",
    "\n",
    "- written in Python\n",
    "- research code and (we hope) production code\n",
    "- schemes are defined by the user (classical or vectorial)\n",
    "- flexible\n",
    "- optimized code generation\n",
    "- MPI support\n",
    "\n"
   ]
  },
  {
   "cell_type": "markdown",
   "metadata": {
    "hideCode": true,
    "hidePrompt": true,
    "slideshow": {
     "slide_type": "slide"
    }
   },
   "source": [
    "## Define a lattice Boltzmann scheme\n",
    " \n",
    "A lattice Boltzmann scheme is given by\n",
    "\n",
    "- a set of $q$ velocities adapted to the mesh, $c_0,\\ldots,c_{q-1}$,\n",
    "- an invertible matrix $M$ that transforms the densities into the moments:\n",
    "\n",
    "$$\n",
    "m_k = \\sum_{j=0}^{q-1} M_{kj} f_j = \\sum_{j=0}^{q-1} P_k(c_j) f_j,\n",
    " \\qquad P_k\\in\\mathbb{R}[X],\n",
    "$$\n",
    "\n",
    "- functions defining the equilibrium $m_k^{eq}$,\n",
    "- relaxation parameters $s_k$."
   ]
  },
  {
   "cell_type": "markdown",
   "metadata": {
    "hideCode": true,
    "hidePrompt": true,
    "slideshow": {
     "slide_type": "slide"
    }
   },
   "source": [
    "The $n$th first moments are necessary the unknowns of the PDEs: these moments are conserved, that is\n",
    "\n",
    "$$\n",
    "m_k^{eq} = m_k, \\qquad 0\\leq k\\leq n-1.\n",
    "$$\n",
    "\n",
    "The next moments are not conserved and their equilibrium value depends on the conserved moments:\n",
    "\n",
    "$$\n",
    "m_k^{eq} = m_k^{eq}(m_0,\\ldots,m_{n-1}), \\qquad n\\leq k\\leq q-1.\n",
    "$$"
   ]
  },
  {
   "cell_type": "markdown",
   "metadata": {
    "slideshow": {
     "slide_type": "slide"
    }
   },
   "source": [
    "## Summary of one time step\n",
    "\n",
    "The starting point is the distribution functions $f(x, t)$ in $x\\in \\mathcal{L}$ at time $t$.\n",
    "\n",
    "- #### The computation of the moments $\\scriptsize{m(x, t) = M f(x,t)}$\n",
    "\n",
    "- #### The relaxation phase $\\scriptsize{m^*_k(x,t)=m_k(x,t)+s_k(m_k^{eq}(x, t) - m_k(x,t)), \\; 0 \\leq k\\leq q-1}$\n",
    "\n",
    "- #### The computation of the densities $\\scriptsize{f^*(x, t) = M^{-1}m^*(x, t)}$\n",
    "\n",
    "- #### The transport phase $\\scriptsize{f_j(x, t+\\Delta t) = f_j^*(x-v_j\\Delta t, t), \\; 0 \\leq j \\leq q-1}$"
   ]
  },
  {
   "cell_type": "markdown",
   "metadata": {
    "hideCode": true,
    "hidePrompt": true,
    "slideshow": {
     "slide_type": "slide"
    }
   },
   "source": [
    "## Example\n",
    "\n",
    "<center>\n",
    "<img src=\"./figures/example_scheme.png\" style=\"width: 90%;\" />\n",
    "</center>"
   ]
  },
  {
   "cell_type": "markdown",
   "metadata": {
    "hideCode": true,
    "hidePrompt": true,
    "slideshow": {
     "slide_type": "slide"
    }
   },
   "source": [
    "## User must provide\n",
    "\n",
    "- velocities,\n",
    "- the domain with its obstacles,\n",
    "- conserved moments,\n",
    "- polynomials that describe the change of basis which diagonalizes the relaxation operator,\n",
    "- equilibria,\n",
    "- the diagonal of the collapse matrix Ŝ,\n",
    "- the boundary conditions,\n",
    "- the code generator (optional).\n"
   ]
  },
  {
   "cell_type": "markdown",
   "metadata": {
    "hideCode": true,
    "hidePrompt": true,
    "slideshow": {
     "slide_type": "slide"
    }
   },
   "source": [
    "## Example\n",
    "\n",
    "We want to solve the advection equation on a torus using a $D_1Q_2$ scheme\n",
    "\n",
    "$$\n",
    "\\left\\{\n",
    "\\begin{array}{l}\n",
    "\\partial_t u(x, t) + c \\partial_x u(x, t) = 0 \\;, t > 0,\\; 0 < x < 1,\\; c=1/4, \\\\\n",
    "u(t=0,x) = u_0(x), \\\\\n",
    "u(t,x=0) = u(t,x=1)\n",
    "\\end{array}\n",
    "\\right.\n",
    "$$\n",
    "\n",
    "where $u$ is the unknown. "
   ]
  },
  {
   "cell_type": "markdown",
   "metadata": {
    "hideCode": true,
    "hidePrompt": true,
    "slideshow": {
     "slide_type": "slide"
    }
   },
   "source": [
    "The $D_1Q_2$ scheme is given by\n",
    "\n",
    "- two velocities $\\{-\\lambda, \\lambda\\}$ with $\\lambda=\\Delta x/\\Delta t$ and the associated densities $(f_-, f_+)$\n",
    "- the matrix $M$ and it's inverse\n",
    "\n",
    "$$\n",
    " M = \\begin{pmatrix} 1 & 1 \\\\ -\\lambda&\\lambda \\end{pmatrix}\n",
    " \\qquad\n",
    " M^{-1} = \\begin{pmatrix} 1/2&-1/(2\\lambda) \\\\ 1/2&1/(2\\lambda) \\end{pmatrix}\n",
    "$$\n",
    "\n",
    "- the conserved moment $u$ and the non conserved moment $v$, \n",
    " where $u=f_-+f_+$ and $v=-\\lambda f_-+ \\lambda f_+$.\n",
    "- the equilibrium value $v^{eq} = v^{eq}(u)$ and the relaxation parameter $s$."
   ]
  },
  {
   "cell_type": "markdown",
   "metadata": {
    "hideCode": true,
    "hidePrompt": true,
    "slideshow": {
     "slide_type": "slide"
    }
   },
   "source": [
    "### Initialization "
   ]
  },
  {
   "cell_type": "code",
   "execution_count": 1,
   "metadata": {
    "hideCode": false,
    "hidePrompt": true
   },
   "outputs": [
    {
     "name": "stderr",
     "output_type": "stream",
     "text": [
      "/home/loic/miniconda3/envs/pylbm/lib/python3.6/site-packages/h5py/__init__.py:36: FutureWarning: Conversion of the second argument of issubdtype from `float` to `np.floating` is deprecated. In future, it will be treated as `np.float64 == np.dtype(float).type`.\n",
      "  from ._conv import register_converters as _register_converters\n"
     ]
    }
   ],
   "source": [
    "import matplotlib.pyplot as plt\n",
    "import numpy as np\n",
    "import sympy as sp\n",
    "import pylbm\n",
    "\n",
    "X, LA, u = sp.symbols('X,LA,u')\n",
    "\n",
    "def u0(x):\n",
    "    return np.exp(-.5*(x%1-.5)**2/0.05**2)\n",
    "\n",
    "la = 1.\n",
    "Tf = 4.\n",
    "c = .25\n",
    "s = 1.99"
   ]
  },
  {
   "cell_type": "markdown",
   "metadata": {
    "hideCode": false,
    "hidePrompt": true,
    "slideshow": {
     "slide_type": "slide"
    }
   },
   "source": [
    "### Scheme and domain definition"
   ]
  },
  {
   "cell_type": "code",
   "execution_count": 2,
   "metadata": {
    "hideCode": false,
    "hidePrompt": true
   },
   "outputs": [],
   "source": [
    "D1Q2 = {\n",
    "    'box': {'x': [0., 1.], 'label': -1},\n",
    "    'space_step': 1./128,\n",
    "    'scheme_velocity': la,\n",
    "    'schemes':[\n",
    "        {\n",
    "            'velocities': [1, 2],\n",
    "            'conserved_moments': u,\n",
    "            'polynomials': [1, X],\n",
    "            'relaxation_parameters': [0., s],\n",
    "            'equilibrium': [u, c*u],\n",
    "            'init': {u:(u0,)},\n",
    "        },\n",
    "    ],\n",
    "}"
   ]
  },
  {
   "cell_type": "markdown",
   "metadata": {
    "hideCode": true,
    "hidePrompt": true,
    "slideshow": {
     "slide_type": "slide"
    }
   },
   "source": [
    "### Simulation and plotting"
   ]
  },
  {
   "cell_type": "code",
   "execution_count": 3,
   "metadata": {
    "hideCode": false,
    "hidePrompt": true
   },
   "outputs": [
    {
     "data": {
      "image/png": "[encoded data removed]",
      "text/plain": [
       "<Figure size 432x288 with 1 Axes>"
      ]
     },
     "metadata": {},
     "output_type": "display_data"
    }
   ],
   "source": [
    "sol = pylbm.Simulation(D1Q2) # build the simulation\n",
    "while sol.t < Tf:            # time loop\n",
    "    sol.one_time_step()      # increment the solution of one time step\n",
    "\n",
    "x = sol.domain.x\n",
    "\n",
    "plt.plot(x, sol.m[u], x, u0(x-c*sol.t))\n",
    "plt.legend([\"$D_1Q_2$\", \"exact solution\"])\n",
    "plt.show()"
   ]
  },
  {
   "cell_type": "markdown",
   "metadata": {
    "slideshow": {
     "slide_type": "slide"
    }
   },
   "source": [
    "## Basic blocks of pyLBM\n",
    "\n",
    "- the velocities and the stencils,\n",
    "- the geometry,\n",
    "- the domain,\n",
    "- the scheme,\n",
    "- the boundary conditions."
   ]
  },
  {
   "cell_type": "markdown",
   "metadata": {
    "slideshow": {
     "slide_type": "slide"
    }
   },
   "source": [
    "### The velocities\n",
    "\n",
    "- A velocity is defined by\n",
    "    + its dimension and an integer\n",
    "    + its coordinates\n",
    "- The numbering of the velocities follows the convention for 1D and 2D problems."
   ]
  },
  {
   "cell_type": "markdown",
   "metadata": {
    "slideshow": {
     "slide_type": "slide"
    }
   },
   "source": [
    "### The stencils\n",
    "\n",
    "they define a set of velocities for each scheme involved in the simulation.\n",
    "<div style=\"height:20px;\"></div>\n",
    "#### Methods\n",
    "\n",
    "- single velocities or for each scheme,\n",
    "- velocities around a direction,\n",
    "- maximal and minimal velocities in each direction,\n",
    "- check if a velocity have its symmetric,\n",
    "- ..."
   ]
  },
  {
   "cell_type": "markdown",
   "metadata": {
    "slideshow": {
     "slide_type": "slide"
    }
   },
   "source": [
    "### The geometry\n",
    "\n",
    "pyLBM can define 1D, 2D and 3D geometry.\n",
    "\n",
    "A geometry is given by the dimension of the box and the labels associated.\n",
    "\n",
    "Only the 2D case can have a union of simple obstacles like \n",
    "- a circle,\n",
    "- a parallelogram,\n",
    "- a triangle."
   ]
  },
  {
   "cell_type": "markdown",
   "metadata": {
    "slideshow": {
     "slide_type": "slide"
    }
   },
   "source": [
    "### The domain\n",
    "\n",
    "The domain is given by a geometry, one or several schemes and a space step.\n",
    "<div style=\"height:20px;\"></div>\n",
    "#### Methods\n",
    "\n",
    "- type of mesh points: fluid or solid,\n",
    "- distance computation for each velocity between the mesh points and the border of the obstacles,\n",
    "- labels of the border for each computed minimal distance."
   ]
  },
  {
   "cell_type": "markdown",
   "metadata": {
    "slideshow": {
     "slide_type": "slide"
    }
   },
   "source": [
    "### The scheme\n",
    "\n",
    "A scheme is defined by:\n",
    "\n",
    "- a set of velocities,\n",
    "- conserved moments,\n",
    "- polynomials,\n",
    "- equilibria,\n",
    "- relaxation coefficients."
   ]
  },
  {
   "cell_type": "markdown",
   "metadata": {
    "slideshow": {
     "slide_type": "slide"
    }
   },
   "source": [
    "### Boundary conditions\n",
    "\n",
    "- bounce back and anti bounce back\n",
    "- Bouzidi\n",
    "- Neumann\n",
    "- periodic"
   ]
  },
  {
   "cell_type": "markdown",
   "metadata": {
    "hideCode": false,
    "hidePrompt": true,
    "slideshow": {
     "slide_type": "slide"
    }
   },
   "source": [
    "### Storage\n",
    "\n",
    "- same access to the moments and disribution functions arrays\n",
    "- can access with the name of the conserved moments\n",
    "- different storage in memory in order to have the best performance for the selected generator\n",
    "- in charge of the scatter process between the sub domains"
   ]
  },
  {
   "cell_type": "markdown",
   "metadata": {
    "slideshow": {
     "slide_type": "slide"
    }
   },
   "source": [
    "### Code generator\n",
    "\n",
    "- NumPy\n",
    "- Cython\n",
    "- loo.py"
   ]
  },
  {
   "cell_type": "markdown",
   "metadata": {
    "hideCode": true,
    "hidePrompt": true,
    "slideshow": {
     "slide_type": "slide"
    }
   },
   "source": [
    "## Structure of the code\n",
    "\n",
    "\n",
    "<center>\n",
    "    <img style=\"width:70%;\" src=\"./figures/structure.png\"/>\n",
    "</center>"
   ]
  },
  {
   "cell_type": "markdown",
   "metadata": {
    "slideshow": {
     "slide_type": "slide"
    }
   },
   "source": [
    "## Demo"
   ]
  },
  {
   "cell_type": "markdown",
   "metadata": {
    "slideshow": {
     "slide_type": "slide"
    }
   },
   "source": [
    "## Installation\n",
    "&nbsp;\n",
    "<center>\n",
    "`conda install -c pylbm pylbm`\n",
    "</center>\n",
    "\n",
    "## More examples\n",
    "\n",
    "&nbsp;\n",
    "<center>\n",
    "http://pylbm.readthedocs.io/en/develop/gallery.html\n",
    "</center>"
   ]
  },
  {
   "cell_type": "markdown",
   "metadata": {
    "hideCode": true,
    "hidePrompt": true,
    "slideshow": {
     "slide_type": "slide"
    }
   },
   "source": [
    "## Next features\n",
    "\n",
    "- tools for scaling and performance estimations\n",
    "- Strang operator\n",
    "- transport strategies\n",
    "- equivalent equations\n",
    "- multiresolution"
   ]
  }
 ],
 "metadata": {
  "anaconda-cloud": {},
  "celltoolbar": "Slideshow",
  "hide_code_all_hidden": true,
  "kernelspec": {
   "display_name": "Python 3",
   "language": "python",
   "name": "python3"
  },
  "language_info": {
   "codemirror_mode": {
    "name": "ipython",
    "version": 3
   },
   "file_extension": ".py",
   "mimetype": "text/x-python",
   "name": "python",
   "nbconvert_exporter": "python",
   "pygments_lexer": "ipython3",
   "version": "3.6.4"
  },
  "latex_envs": {
   "LaTeX_envs_menu_present": true,
   "autocomplete": true,
   "bibliofile": "biblio.bib",
   "cite_by": "apalike",
   "current_citInitial": 1,
   "eqLabelWithNumbers": true,
   "eqNumInitial": 1,
   "hotkeys": {
    "equation": "Ctrl-E",
    "itemize": "Ctrl-I"
   },
   "labels_anchors": false,
   "latex_user_defs": false,
   "report_style_numbering": false,
   "user_envs_cfg": false
  },
  "livereveal": {
   "autolaunch": true,
   "scroll": true,
   "width": "80%"
  },
  "nbpresent": {
   "slides": {
    "820065f8-8944-4335-8ab7-ba6c9feac786": {
     "id": "820065f8-8944-4335-8ab7-ba6c9feac786",
     "prev": null,
     "regions": {
      "d19c7b51-fba6-4bee-8870-3ef44ae7f0e7": {
       "attrs": {
        "height": 0.8,
        "width": 0.8,
        "x": 0.1,
        "y": 0.1
       },
       "content": {
        "cell": "ce53065a-5b71-435c-93fa-68e63a7ded0d",
        "part": "whole"
       },
       "id": "d19c7b51-fba6-4bee-8870-3ef44ae7f0e7"
      }
     }
    }
   },
   "themes": {}
  }
 },
 "nbformat": 4,
 "nbformat_minor": 2
}
